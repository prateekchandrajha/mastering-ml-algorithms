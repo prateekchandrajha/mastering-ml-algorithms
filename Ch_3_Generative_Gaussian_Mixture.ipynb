{
  "nbformat": 4,
  "nbformat_minor": 0,
  "metadata": {
    "colab": {
      "name": "Ch-3-Generative-Gaussian-Mixture.ipynb",
      "provenance": [],
      "authorship_tag": "ABX9TyO61MLTmo6q3h94Z3EPq9KX",
      "include_colab_link": true
    },
    "kernelspec": {
      "name": "python3",
      "display_name": "Python 3"
    }
  },
  "cells": [
    {
      "cell_type": "markdown",
      "metadata": {
        "id": "view-in-github",
        "colab_type": "text"
      },
      "source": [
        "<a href=\"https://colab.research.google.com/github/prateekchandrajha/mastering-ml-algorithms/blob/main/Ch_3_Generative_Gaussian_Mixture.ipynb\" target=\"_parent\"><img src=\"https://colab.research.google.com/assets/colab-badge.svg\" alt=\"Open In Colab\"/></a>"
      ]
    },
    {
      "cell_type": "markdown",
      "metadata": {
        "id": "Rmvnj_BmKlDy"
      },
      "source": [
        "# Advanced Information Retrieval Quiz - 5"
      ]
    },
    {
      "cell_type": "markdown",
      "metadata": {
        "id": "dLKzhk6OKsiG"
      },
      "source": [
        "Firstly we create a simple bidimensional dataset, created using the `make_blobs()` function provided by scikit-learn.\r\n",
        "\r\n",
        "This function\r\n",
        "allows creating synthetic datasets to test algorithms that require data points drawn\r\n",
        "from a set of normal distributions. \r\n",
        "\r\n",
        "The goal of this submission is to show the dynamics\r\n",
        "of a ***Generative Gaussian Mixture***, and therefore I have avoided\r\n",
        "complex datasets which can't be easily visualized.\r\n",
        "\r\n",
        "Generative Gaussian Mixtures are models that can learn the structure of a dataset\r\n",
        "and output the probability of any data point. They are based on both labeled and\r\n",
        "unlabeled samples, which are assumed to be equally trustworthy. That is to say,\r\n",
        "the unlabeled points contribute to the final positioning of the Gaussians like the\r\n",
        "labeled ones.\r\n",
        "This algorithm is very fast and produces excellent results in terms of density\r\n",
        "estimation.\r\n"
      ]
    },
    {
      "cell_type": "code",
      "metadata": {
        "id": "2J9g26l6J5mY"
      },
      "source": [
        "from sklearn.datasets import make_blobs\r\n",
        "import numpy as np\r\n",
        "nb_samples = 250\r\n",
        "nb_unlabeled = 200"
      ],
      "execution_count": null,
      "outputs": []
    },
    {
      "cell_type": "code",
      "metadata": {
        "id": "v5RD8H8dLMWZ"
      },
      "source": [
        "X, Y = make_blobs(n_samples=nb_samples, n_features=2, centers=2,\r\n",
        "cluster_std=1.25, random_state=100)"
      ],
      "execution_count": null,
      "outputs": []
    },
    {
      "cell_type": "code",
      "metadata": {
        "colab": {
          "base_uri": "https://localhost:8080/",
          "height": 282
        },
        "id": "Q8y1uxpyLQER",
        "outputId": "8d1fffe0-97fd-4f65-a1d9-fb35fae57ad3"
      },
      "source": [
        "import matplotlib.pyplot as plt\r\n",
        "plt.scatter(X[:,0],X[:,1])"
      ],
      "execution_count": null,
      "outputs": [
        {
          "output_type": "execute_result",
          "data": {
            "text/plain": [
              "<matplotlib.collections.PathCollection at 0x7f82cf6f3fd0>"
            ]
          },
          "metadata": {
            "tags": []
          },
          "execution_count": 18
        },
        {
          "output_type": "display_data",
          "data": {
            "image/png": "[encoded data removed]",
            "text/plain": [
              "<Figure size 432x288 with 1 Axes>"
            ]
          },
          "metadata": {
            "tags": [],
            "needs_background": "light"
          }
        }
      ]
    },
    {
      "cell_type": "code",
      "metadata": {
        "id": "A2WbvO2vLR0y"
      },
      "source": [
        "unlabeled_idx = np.random.choice(np.arange(0, nb_samples, 1),\r\n",
        "replace=False, size=nb_unlabeled)\r\n",
        "Y[unlabeled_idx] = -1"
      ],
      "execution_count": null,
      "outputs": []
    },
    {
      "cell_type": "markdown",
      "metadata": {
        "id": "bvx9qT_MPdGz"
      },
      "source": [
        "We've created 200 samples belonging to 2 classes. 250 points have then been\r\n",
        "randomly selected to become our unlabeled dataset (the corresponding class\r\n",
        "has been set to -1). \r\n",
        "\r\n",
        "We can now initialize two Gaussian distributions by defining\r\n",
        "their mean, covariance, and weight. One possibility is to use random values; this\r\n",
        "choice is the simplest, and doesn't require any prior calculation. The algorithm has\r\n",
        "been proven to converge in any case, but the number of steps is a function of the\r\n",
        "difference between the initial and final states."
      ]
    },
    {
      "cell_type": "code",
      "metadata": {
        "id": "nbPeg37ZPQMP"
      },
      "source": [
        "import numpy as np\r\n",
        "\r\n",
        "m1 = np.random.uniform(-7.5, 10.0, size=2)\r\n",
        "c1 = np.random.uniform(5.0, 15.0, size=(2, 2))\r\n",
        "\r\n",
        "c1 = np.dot(c1, c1.T)\r\n",
        "q1 = 0.5\r\n",
        "\r\n",
        "m2 = np.random.uniform(-7.5, 10.0, size=2)\r\n",
        "\r\n",
        "c2 = np.random.uniform(5.0, 15.0, size=(2, 2))\r\n",
        "c2 = np.dot(c2, c2.T)\r\n",
        "\r\n",
        "q2 = 0.5"
      ],
      "execution_count": null,
      "outputs": []
    },
    {
      "cell_type": "code",
      "metadata": {
        "colab": {
          "base_uri": "https://localhost:8080/"
        },
        "id": "xSdEDNNCQrm1",
        "outputId": "64b9d342-2a70-46c1-e942-ce190d462244"
      },
      "source": [
        "c2"
      ],
      "execution_count": null,
      "outputs": [
        {
          "output_type": "execute_result",
          "data": {
            "text/plain": [
              "array([[ 84.54170896, 135.43197501],\n",
              "       [135.43197501, 217.12157236]])"
            ]
          },
          "metadata": {
            "tags": []
          },
          "execution_count": 22
        }
      ]
    },
    {
      "cell_type": "markdown",
      "metadata": {
        "id": "sR82yGJpPxg8"
      },
      "source": [
        " A\r\n",
        "covariance-matrix is is an extension of the concept of variance that must inherit\r\n",
        "the same properties. In particular, when the Gaussian is aligned with the axis,\r\n",
        "all non-diagonal terms are null. On the diagonal there are the variances with\r\n",
        "respect to every component, which are also the eigenvalues. It's straightforward to\r\n",
        "understand that all these terms are non-negative."
      ]
    },
    {
      "cell_type": "code",
      "metadata": {
        "id": "V1HOPeNqPpcA"
      },
      "source": [
        "m1 = np.array([-2.0, -2.5])\r\n",
        "c1 = np.array([[1.0, 1.0],\r\n",
        " [1.0, 2.0]])\r\n",
        "q1 = 0.5\r\n",
        "\r\n",
        "m2 = np.array([1.0, 3.0])\r\n",
        "c2 = np.array([[2.0, -1.0],\r\n",
        " [-1.0, 3.5]])\r\n",
        "q2 = 0.5"
      ],
      "execution_count": null,
      "outputs": []
    },
    {
      "cell_type": "code",
      "metadata": {
        "id": "XO9z1tMcQ3hr"
      },
      "source": [
        "w1, v1 = np.linalg.eigh(c1)\r\n",
        "w2, v2 = np.linalg.eigh(c2)\r\n",
        "\r\n",
        "nv1 = v1 / np.linalg.norm(v1)\r\n",
        "nv2 = v2 / np.linalg.norm(v2)\r\n",
        "\r\n",
        "a1 = np.arccos(np.dot(nv1[:, 1], [1.0, 0.0]) / np.linalg.norm(nv1[:,\r\n",
        "1])) * 180.0 / np.pi\r\n",
        "a2 = np.arccos(np.dot(nv2[:, 1], [1.0, 0.0]) / np.linalg.norm(nv2[:,\r\n",
        "1])) * 180.0 / np.pi"
      ],
      "execution_count": null,
      "outputs": []
    },
    {
      "cell_type": "code",
      "metadata": {
        "id": "sNAfvCuTXBzp"
      },
      "source": [
        "from scipy.stats import multivariate_normal\r\n",
        "threshold = 1e-4\r\n",
        "def total_norm():\r\n",
        "    global m1, m1_old, m2, m2_old, c1, c1_old, c2, c2_old, q1, q1_old, q2, q2_old\r\n",
        "    return np.linalg.norm(m1 - m1_old) + \\\r\n",
        "    np.linalg.norm(m2 - m2_old) + \\\r\n",
        "    np.linalg.norm(c1 - c1_old) + \\\r\n",
        "    np.linalg.norm(c2 - c2_old) + \\\r\n",
        "    np.linalg.norm(q1 - q1_old) + \\\r\n",
        "    np.linalg.norm(q2 - q2_old)\r\n"
      ],
      "execution_count": null,
      "outputs": []
    },
    {
      "cell_type": "code",
      "metadata": {
        "id": "pI-V59NVXq58"
      },
      "source": [
        "m1_old = np.zeros((2,))\r\n",
        "c1_old = np.zeros((2, 2))\r\n",
        "q1_old = 0\r\n",
        "\r\n",
        "m2_old = np.zeros((2,))\r\n",
        "c2_old = np.zeros((2, 2))\r\n",
        "q2_old = 0\r\n",
        "\r\n",
        "while total_norm() > threshold:\r\n",
        "    m1_old = m1.copy()\r\n",
        "    c1_old = c1.copy()\r\n",
        "    q1_old = q1\r\n",
        "\r\n",
        "    m2_old = m2.copy()\r\n",
        "    c2_old = c2.copy()\r\n",
        "    q2_old = q2\r\n",
        "\r\n",
        "    Pij = np.zeros((nb_samples, 2))\r\n",
        "    # E Step\r\n",
        "    for i in range(nb_samples):\r\n",
        "      if Y[i] == -1:\r\n",
        "          p1 = multivariate_normal.pdf(X[i], m1, c1, allow_singular=True) * q1\r\n",
        "          p2 = multivariate_normal.pdf(X[i], m2, c2, allow_singular=True) * q2\r\n",
        "          Pij[i] = [p1, p2] / (p1 + p2)\r\n",
        "      else:\r\n",
        "          Pij[i, :] = [1.0, 0.0] if Y[i] == 0 else [0.0, 1.0]\r\n",
        "    # M Step\r\n",
        "    n = np.sum(Pij, axis=0)\r\n",
        "    m = np.sum(np.dot(Pij.T, X), axis=0)\r\n",
        "    m1 = np.dot(Pij[:, 0], X) / n[0]\r\n",
        "    m2 = np.dot(Pij[:, 1], X) / n[1]\r\n",
        "    q1 = n[0] / float(nb_samples)\r\n",
        "    q2 = n[1] / float(nb_samples)\r\n",
        "    c1 = np.zeros((2, 2))\r\n",
        "    c2 = np.zeros((2, 2))\r\n",
        "    for t in range(nb_samples):\r\n",
        "        c1 += Pij[t, 0] * np.outer(X[t] - m1, X[t] - m1)\r\n",
        "        c2 += Pij[t, 1] * np.outer(X[t] - m2, X[t] - m2)\r\n",
        "    c1 /= n[0]\r\n",
        "    c2 /= n[1]\r\n"
      ],
      "execution_count": null,
      "outputs": []
    },
    {
      "cell_type": "code",
      "metadata": {
        "colab": {
          "base_uri": "https://localhost:8080/"
        },
        "id": "mBYFqchhXm7T",
        "outputId": "fb24ce78-4b81-4005-8cf0-52fc339747a6"
      },
      "source": [
        "print(np.round(X[Y==-1][0:5], 3))"
      ],
      "execution_count": null,
      "outputs": [
        {
          "output_type": "stream",
          "text": [
            "[[-1.37  10.07 ]\n",
            " [ 0.398 -3.857]\n",
            " [-1.866  7.496]\n",
            " [-0.752 -4.314]\n",
            " [ 0.145 -5.932]]\n"
          ],
          "name": "stdout"
        }
      ]
    }
  ]
}