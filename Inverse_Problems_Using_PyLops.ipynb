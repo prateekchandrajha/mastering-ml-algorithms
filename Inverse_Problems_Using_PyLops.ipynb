{
  "nbformat": 4,
  "nbformat_minor": 0,
  "metadata": {
    "kernelspec": {
      "display_name": "Python 3",
      "language": "python",
      "name": "python3"
    },
    "language_info": {
      "codemirror_mode": {
        "name": "ipython",
        "version": 3
      },
      "file_extension": ".py",
      "mimetype": "text/x-python",
      "name": "python",
      "nbconvert_exporter": "python",
      "pygments_lexer": "ipython3",
      "version": "3.7.2"
    },
    "toc": {
      "base_numbering": 1,
      "nav_menu": {},
      "number_sections": true,
      "sideBar": true,
      "skip_h1_title": false,
      "title_cell": "Table of Contents",
      "title_sidebar": "Contents",
      "toc_cell": false,
      "toc_position": {},
      "toc_section_display": true,
      "toc_window_display": false
    },
    "colab": {
      "name": "Inverse Problems Using PyLops.ipynb",
      "provenance": [],
      "include_colab_link": true
    }
  },
  "cells": [
    {
      "cell_type": "markdown",
      "metadata": {
        "id": "view-in-github",
        "colab_type": "text"
      },
      "source": [
        "<a href=\"https://colab.research.google.com/github/prateekchandrajha/mastering-ml-algorithms/blob/main/Inverse_Problems_Using_PyLops.ipynb\" target=\"_parent\"><img src=\"https://colab.research.google.com/assets/colab-badge.svg\" alt=\"Open In Colab\"/></a>"
      ]
    },
    {
      "cell_type": "markdown",
      "metadata": {
        "id": "4fw6c8FcltRV"
      },
      "source": [
        "# Introduction to PyLops: https://www.youtube.com/watch?v=1INffyzZ-O8\n",
        "\n",
        "**Authors: M. Ravasi, D. Vargas, I. Vasconcelos**"
      ]
    },
    {
      "cell_type": "markdown",
      "metadata": {
        "id": "p0VLlVrKltRi"
      },
      "source": [
        "Welcome to the **Solving large-scale inverse problems in Python with PyLops** tutorial!\n",
        "\n",
        "The aim of this tutorial is to:\n",
        "\n",
        "- introduce you to the concept of *linear operators* and their usage in the solution of *inverse problems*;\n",
        "- show how PyLops can be used to set-up non-trivial linear operators and solve inverse problems in Python; \n",
        "- Walk you through a set of use cases where PyLops has been leveraged to solve real scientific problems and present future directions of development."
      ]
    },
    {
      "cell_type": "markdown",
      "metadata": {
        "id": "KQZCpKyGltRj"
      },
      "source": [
        "## Useful links\n",
        "\n",
        "- Tutorial Github repository: https://github.com/mrava87/pylops_pydata2020\n",
        "        \n",
        "- PyLops Github repository: https://github.com/equinor/pylops\n",
        "\n",
        "- PyLops reference documentation: https://pylops.readthedocs.io/en/latest/"
      ]
    },
    {
      "cell_type": "markdown",
      "metadata": {
        "id": "8Ra2A8hSltRk"
      },
      "source": [
        "## Theory in a nutshell\n",
        "\n",
        "In this tutorial we will try to keep the theory to a minimum and quickly expose you to practical examples. However, we want to make sure that some of the basic underlying concepts are clear to everyone and define a common mathematical notation.\n",
        "\n",
        "At the core of PyLops lies the concept of **linear operators**. A linear operator is generally a mapping or function that acts linearly on elements of a space to produce elements of another space. More specifically we say that $\\mathbf{A}:\\mathbb{F}^m \\to \\mathbb{F}^n$ is a linear operator that maps a vector of size $m$ in the *model space* to a vector of size $n$ in the *data space*:\n",
        "\n",
        "<img src=\"https://github.com/mrava87/pylops_pydata2020/blob/master/figs/forward.png?raw=1\" width=\"300\">\n",
        "\n",
        "We will refer to this as **forward model (or operation)**. \n",
        "\n",
        "Conversely the application of its adjoint to a data vector is referred to as **adjoint modelling (or operation)**:\n",
        "\n",
        "<img src=\"https://github.com/mrava87/pylops_pydata2020/blob/master/figs/adjoint.png?raw=1\" width=\"300\">\n",
        "\n",
        "In its simplest form, a linear operator can be seen as a **matrix** of size $n \\times m$ (and the adjoint is simply its transpose and complex conjugate). However in a more general sense we can think of a linear operator as any pair of software code that mimics the effect a matrix on a model vector as well as that of its adjoint to a data vector.\n",
        "\n",
        "Solving an inverse problems accounts to removing the effect of the operator/matrix $\\mathbf{A}$ from the data $\\mathbf{y}$ to retrieve the model $\\mathbf{x}$ (or an approximation of it).\n",
        "\n",
        "$$\\hat{\\mathbf{x}} = \\mathbf{A}^{-1} \\mathbf{y}$$\n",
        "\n",
        "In practice, the inverse of $\\mathbf{A}$ is generally not explicitely required. A solution can be obtained using either direct methods, matrix decompositions (eg SVD) or iterative solvers. Luckily, many iterative methods (e.g. cg, lsqr) do not need to know the individual entries of a matrix to solve a linear system. Such solvers only require the computation of forward and adjoint matrix-vector products - exactly what a linear operator does!\n",
        "\n",
        "**So what?**\n",
        "We have learned that to solve an inverse problem, we do not need to express the modelling operator in terms of its dense (or sparse) matrix. All we need to know is how to perform the forward and adjoint operations - ideally as fast as possible and using the least amount of memory. \n",
        "\n",
        "Our first task will be to understand how we can effectively write a linear operator on pen and paper and translate it into computer code. We will consider 2 examples:\n",
        "\n",
        "- Element-wise multiplication (also known as Hadamard product)\n",
        "- First Derivative"
      ]
    },
    {
      "cell_type": "markdown",
      "metadata": {
        "id": "xmDKmnEKltRl"
      },
      "source": [
        "Let's first import the libraries we need in this tutorial"
      ]
    },
    {
      "cell_type": "code",
      "metadata": {
        "id": "oCQz9ZE-ltRl",
        "colab": {
          "base_uri": "https://localhost:8080/"
        },
        "outputId": "d9e2307a-04af-49a3-aac9-a571f948480a"
      },
      "source": [
        "# Run this when using Colab (will install the missing libraries)\n",
        "!pip install pylops pympler scooby"
      ],
      "execution_count": 1,
      "outputs": [
        {
          "output_type": "stream",
          "text": [
            "Collecting pylops\n",
            "\u001b[?25l  Downloading https://files.pythonhosted.org/packages/66/55/97ff3ade2299ff0a09a5a104d32897f916299116ae75bc150c0f4c5eb1c7/pylops-1.12.0-py3-none-any.whl (166kB)\n",
            "\u001b[K     |████████████████████████████████| 174kB 5.2MB/s \n",
            "\u001b[?25hCollecting pympler\n",
            "\u001b[?25l  Downloading https://files.pythonhosted.org/packages/e8/e2/2f3a086701bb62b1c478a3921836271177838a3c98cdc6b82c3bb36d3854/Pympler-0.9.tar.gz (178kB)\n",
            "\u001b[K     |████████████████████████████████| 184kB 5.1MB/s \n",
            "\u001b[?25hCollecting scooby\n",
            "  Downloading https://files.pythonhosted.org/packages/50/d4/4edc294b2808d67057ffbeb7cefebda17e98392353de7be9c28300f9a331/scooby-0.5.6-py3-none-any.whl\n",
            "Requirement already satisfied: numpy>=1.15.0 in /usr/local/lib/python3.6/dist-packages (from pylops) (1.19.5)\n",
            "Requirement already satisfied: scipy>=1.4.0 in /usr/local/lib/python3.6/dist-packages (from pylops) (1.4.1)\n",
            "Building wheels for collected packages: pympler\n",
            "  Building wheel for pympler (setup.py) ... \u001b[?25l\u001b[?25hdone\n",
            "  Created wheel for pympler: filename=Pympler-0.9-cp36-none-any.whl size=164805 sha256=2b1bfa4a1b8806e4ad49eb67e05cfe2cb7c0fed1fe6001fc9e4936261c45e925\n",
            "  Stored in directory: /root/.cache/pip/wheels/23/15/5a/90dd23b3ceffcf8463dc737fba4fad3e295d1da52622bbb74f\n",
            "Successfully built pympler\n",
            "Installing collected packages: pylops, pympler, scooby\n",
            "Successfully installed pylops-1.12.0 pympler-0.9 scooby-0.5.6\n"
          ],
          "name": "stdout"
        }
      ]
    },
    {
      "cell_type": "code",
      "metadata": {
        "id": "pTZojmGYltRm"
      },
      "source": [
        "%matplotlib inline\n",
        "\n",
        "import numpy as np\n",
        "import matplotlib.pyplot as plt\n",
        "import pylops\n",
        "import scooby\n",
        "\n",
        "from scipy.linalg import lstsq\n",
        "from pylops import LinearOperator\n",
        "from pylops.utils import dottest"
      ],
      "execution_count": 2,
      "outputs": []
    },
    {
      "cell_type": "markdown",
      "metadata": {
        "id": "iTm_JGwgltRm"
      },
      "source": [
        "## Element-wise multiplication"
      ]
    },
    {
      "cell_type": "markdown",
      "metadata": {
        "id": "LxZv-e9gltRn"
      },
      "source": [
        "We start by creating a barebore linear operator that performs a simple element-wise multiplication between two vectors (the so-called Hadamart product):\n",
        "\n",
        "$$ y_i = d_i x_i  \\quad \\forall i=0,1,...,n-1 $$\n",
        "\n",
        "If we think about the forward problem the way we wrote it before, we can see that this operator can be equivalently expressed as a dot-product between a square matrix $\\mathbf{D}$ that has the $d_i$ elements along its main diagonal and a vector $\\mathbf{x}$:\n",
        "\n",
        "<img src=\"https://github.com/mrava87/pylops_pydata2020/blob/master/figs/diagonal.png?raw=1\" width=\"600\">\n",
        "\n",
        "Because of this, the related linear operator is called *Diagonal* operator in PyLops.\n",
        "\n",
        "We are ready to implement this operator in 2 different ways:\n",
        "\n",
        "- directly as a diagonal matrix; \n",
        "- as a linear operator that performs directly element-wise multiplication."
      ]
    },
    {
      "cell_type": "markdown",
      "metadata": {
        "id": "NhoTwhb4ltRo"
      },
      "source": [
        "### Dense matrix definition"
      ]
    },
    {
      "cell_type": "code",
      "metadata": {
        "id": "Gqy_wS9pltRo",
        "colab": {
          "base_uri": "https://localhost:8080/"
        },
        "outputId": "3ae67130-4484-4be2-a7d6-1fdd8a2ca3a8"
      },
      "source": [
        "n = 10\n",
        "diag = np.arange(n)\n",
        "\n",
        "D = np.diag(diag)\n",
        "print('D:\\n', D)"
      ],
      "execution_count": 3,
      "outputs": [
        {
          "output_type": "stream",
          "text": [
            "D:\n",
            " [[0 0 0 0 0 0 0 0 0 0]\n",
            " [0 1 0 0 0 0 0 0 0 0]\n",
            " [0 0 2 0 0 0 0 0 0 0]\n",
            " [0 0 0 3 0 0 0 0 0 0]\n",
            " [0 0 0 0 4 0 0 0 0 0]\n",
            " [0 0 0 0 0 5 0 0 0 0]\n",
            " [0 0 0 0 0 0 6 0 0 0]\n",
            " [0 0 0 0 0 0 0 7 0 0]\n",
            " [0 0 0 0 0 0 0 0 8 0]\n",
            " [0 0 0 0 0 0 0 0 0 9]]\n"
          ],
          "name": "stdout"
        }
      ]
    },
    {
      "cell_type": "markdown",
      "metadata": {
        "id": "pTf8LC90ltRr"
      },
      "source": [
        "We can now apply the forward by simply using `np.dot`"
      ]
    },
    {
      "cell_type": "code",
      "metadata": {
        "id": "5nH9q-nXltRr",
        "colab": {
          "base_uri": "https://localhost:8080/"
        },
        "outputId": "6d19e90e-a1d6-435b-e998-1079261dde46"
      },
      "source": [
        "x = np.ones(n)\n",
        "y = np.dot(D, x) # or D.dot(x) or D @ x\n",
        "print('y: ', y)"
      ],
      "execution_count": 4,
      "outputs": [
        {
          "output_type": "stream",
          "text": [
            "y:  [0. 1. 2. 3. 4. 5. 6. 7. 8. 9.]\n"
          ],
          "name": "stdout"
        }
      ]
    },
    {
      "cell_type": "markdown",
      "metadata": {
        "id": "gL1XL3EfltRs"
      },
      "source": [
        "As we have access to all the entries of the matrix, it is very easy to write the adjoint"
      ]
    },
    {
      "cell_type": "code",
      "metadata": {
        "id": "LKqUi7qIltRt",
        "colab": {
          "base_uri": "https://localhost:8080/"
        },
        "outputId": "beaed5dd-8720-4980-ba33-471a145da849"
      },
      "source": [
        "xadj = np.dot(np.conj(D.T), y)\n",
        "print('xadj: ', xadj)"
      ],
      "execution_count": 5,
      "outputs": [
        {
          "output_type": "stream",
          "text": [
            "xadj:  [ 0.  1.  4.  9. 16. 25. 36. 49. 64. 81.]\n"
          ],
          "name": "stdout"
        }
      ]
    },
    {
      "cell_type": "markdown",
      "metadata": {
        "id": "c-3VQa7UltRt"
      },
      "source": [
        "*Note:* since the elements of our matrix are real numbers, we can avoid applying the complex conjugation here."
      ]
    },
    {
      "cell_type": "markdown",
      "metadata": {
        "id": "Tyln05HZltRu"
      },
      "source": [
        "Everything seems very easy so far. This approach does however carry some problems:\n",
        "    \n",
        "- we are storing $N^2$ numbers, even though we know that our matrix has only elements along its diagonal.\n",
        "- we are applying a dot product which requires $N^2$ multiplications and summations (most of them with zeros)\n",
        "\n",
        "Of course in this case we could use a sparse matrix, which allows to store only non-zero elements (and their index) and provides a faster way to perform the dot product."
      ]
    },
    {
      "cell_type": "markdown",
      "metadata": {
        "id": "Zga39jAvltRv"
      },
      "source": [
        "### Linear operator definition"
      ]
    },
    {
      "cell_type": "markdown",
      "metadata": {
        "id": "0-AOe__2ltRv"
      },
      "source": [
        "Let's take a leap of faith, and see if we can avoid thinking about the matrix altogether and write just an equivalent (ideally faster) piece of code that mimics this operation.\n",
        "\n",
        "To write its equivalent linear operator, we define a class with an init method, and 2 other methods:\n",
        "    \n",
        "- _matvec: we write the forward operation here\n",
        "- _rmatvec: we write the adjoint operation here\n",
        "    \n",
        "We see that we are also subclassing a PyLops LinearOperator. For the moment let's not get into the details of what that entails and simply focus on writing the content of these three methods."
      ]
    },
    {
      "cell_type": "code",
      "metadata": {
        "id": "HEVhc6cVltRw"
      },
      "source": [
        "class Diagonal(LinearOperator):\n",
        "    \"\"\"Short version of a Diagonal operator. See\n",
        "    https://github.com/equinor/pylops/blob/master/pylops/basicoperators/Diagonal.py\n",
        "    for a more detailed implementation\n",
        "    \"\"\"\n",
        "    def __init__(self, diag, dtype='float64'):\n",
        "        self.diag = diag\n",
        "        self.shape = (len(self.diag), len(self.diag))\n",
        "        self.dtype = np.dtype(dtype)\n",
        "\n",
        "    def _matvec(self, x):\n",
        "        y = self.diag * x\n",
        "        return y\n",
        "\n",
        "    def _rmatvec(self, x):\n",
        "        y = np.conj(self.diag) * x\n",
        "        return y"
      ],
      "execution_count": 6,
      "outputs": []
    },
    {
      "cell_type": "markdown",
      "metadata": {
        "id": "KyhsOoveltRz"
      },
      "source": [
        "Now we create the operator"
      ]
    },
    {
      "cell_type": "code",
      "metadata": {
        "id": "Knd5XYUZltR0",
        "colab": {
          "base_uri": "https://localhost:8080/"
        },
        "outputId": "363cb56c-c242-4f82-b8f6-3cfc775f68e1"
      },
      "source": [
        "Dop = Diagonal(diag)\n",
        "print('Dop: ', Dop)"
      ],
      "execution_count": 7,
      "outputs": [
        {
          "output_type": "stream",
          "text": [
            "Dop:  <10x10 Diagonal with dtype=float64>\n"
          ],
          "name": "stdout"
        }
      ]
    },
    {
      "cell_type": "markdown",
      "metadata": {
        "id": "i72WiMtvltR1"
      },
      "source": [
        "### Linear operator application"
      ]
    },
    {
      "cell_type": "markdown",
      "metadata": {
        "id": "kYL-h1bQltR2"
      },
      "source": [
        "Forward"
      ]
    },
    {
      "cell_type": "code",
      "metadata": {
        "id": "nfR-YD4WltR2",
        "colab": {
          "base_uri": "https://localhost:8080/"
        },
        "outputId": "dd5793c0-7e8c-4ca2-a30e-4d2119ea518c"
      },
      "source": [
        "y = Dop * x # Dop @ x\n",
        "print('y: ', y)"
      ],
      "execution_count": 8,
      "outputs": [
        {
          "output_type": "stream",
          "text": [
            "y:  [0. 1. 2. 3. 4. 5. 6. 7. 8. 9.]\n"
          ],
          "name": "stdout"
        }
      ]
    },
    {
      "cell_type": "markdown",
      "metadata": {
        "id": "fz7BC274ltR3"
      },
      "source": [
        "Adjoint"
      ]
    },
    {
      "cell_type": "code",
      "metadata": {
        "id": "AczpKTOTltR4",
        "colab": {
          "base_uri": "https://localhost:8080/"
        },
        "outputId": "1d998bf7-adbd-4ac7-e228-e482047499ba"
      },
      "source": [
        "xadj = Dop.H * y\n",
        "print('xadj: ', xadj)"
      ],
      "execution_count": 9,
      "outputs": [
        {
          "output_type": "stream",
          "text": [
            "xadj:  [ 0.  1.  4.  9. 16. 25. 36. 49. 64. 81.]\n"
          ],
          "name": "stdout"
        }
      ]
    },
    {
      "cell_type": "markdown",
      "metadata": {
        "id": "qVbw_DPultR5"
      },
      "source": [
        "As expected we obtain the same results!"
      ]
    },
    {
      "cell_type": "markdown",
      "metadata": {
        "id": "lvFw57HeltR6"
      },
      "source": [
        "**EX:** try making a much bigger vector $\\mathbf{x}$ and time the forward and adjoint for the two approaches"
      ]
    },
    {
      "cell_type": "code",
      "metadata": {
        "id": "_P2fo1Y8ltR6"
      },
      "source": [
        "# %load -s Diagonal_timing solutions/intro_sol.py"
      ],
      "execution_count": null,
      "outputs": []
    },
    {
      "cell_type": "markdown",
      "metadata": {
        "id": "cY2QLWhrltR7"
      },
      "source": [
        "### Linear operator testing"
      ]
    },
    {
      "cell_type": "markdown",
      "metadata": {
        "id": "ONqkeI_1ltR7"
      },
      "source": [
        "One of the most important aspect of writing a Linear operator is to be able to verify that the code implemented in forward mode and the code implemented in adjoint mode are effectively adjoint to each other. \n",
        "\n",
        "If this is not the case, we will struggle to invert our linear operator - some iterative solvers will diverge and other show very slow convergence.\n",
        "\n",
        "This is instead the case if the so-called *dot-test* is passed within a certain treshold:\n",
        "\n",
        "$$\n",
        "(\\mathbf{A}*\\mathbf{u})^H*\\mathbf{v} = \\mathbf{u}^H*(\\mathbf{A}^H*\\mathbf{v})\n",
        "$$\n",
        "\n",
        "where $\\mathbf{u}$ and $\\mathbf{v}$ are two random vectors.\n",
        "\n",
        "Let's use `pylops.utils.dottest`"
      ]
    },
    {
      "cell_type": "code",
      "metadata": {
        "id": "kBBCobApltR8",
        "colab": {
          "base_uri": "https://localhost:8080/"
        },
        "outputId": "bdf89252-f562-4b23-9c4c-0c13b98d2de1"
      },
      "source": [
        "dottest(Dop, n, n, verb=True);"
      ],
      "execution_count": 10,
      "outputs": [
        {
          "output_type": "stream",
          "text": [
            "Dot test passed, v^T(Opu)=-2.877032 - u^T(Op^Tv)=-2.877032\n"
          ],
          "name": "stdout"
        }
      ]
    },
    {
      "cell_type": "markdown",
      "metadata": {
        "id": "RrOYed5-ltR8"
      },
      "source": [
        "## First Derivative"
      ]
    },
    {
      "cell_type": "markdown",
      "metadata": {
        "id": "VZg5YJH4ltR9"
      },
      "source": [
        "Let's consider now something less trivial. \n",
        "\n",
        "<img src=\"https://github.com/mrava87/pylops_pydata2020/blob/master/figs/firstder.png?raw=1\" width=\"600\">\n",
        "\n",
        "We use a first-order centered first derivative stencil:\n",
        "\n",
        "$$ y_i = \\frac{x_{i+1} - x_{i-1}}{2 \\Delta}  \\quad \\forall i=1,2,...,N $$\n",
        "\n",
        "where $\\Delta$ is the sampling step of the input signal. Note that we will deal differently with the edges, using a forward/backward derivative.\n",
        "\n",
        "<img src=\"https://github.com/mrava87/pylops_pydata2020/blob/master/figs/firstder1.png?raw=1\" width=\"600\">"
      ]
    },
    {
      "cell_type": "markdown",
      "metadata": {
        "id": "Pq1Hnk3BltR9"
      },
      "source": [
        "### Dense matrix definition"
      ]
    },
    {
      "cell_type": "code",
      "metadata": {
        "id": "sGkdsIfoltR-",
        "colab": {
          "base_uri": "https://localhost:8080/"
        },
        "outputId": "ea56e399-639b-4e8e-e13c-2efdaba26df8"
      },
      "source": [
        "nx = 11\n",
        "\n",
        "D = np.diag(0.5*np.ones(nx-1), k=1) - np.diag(0.5*np.ones(nx-1), k=-1) \n",
        "D[0, 0] = D[-1, -2] = -1\n",
        "D[0, 1] = D[-1, -1] = 1\n",
        "print('D:\\n', D)"
      ],
      "execution_count": 11,
      "outputs": [
        {
          "output_type": "stream",
          "text": [
            "D:\n",
            " [[-1.   1.   0.   0.   0.   0.   0.   0.   0.   0.   0. ]\n",
            " [-0.5  0.   0.5  0.   0.   0.   0.   0.   0.   0.   0. ]\n",
            " [ 0.  -0.5  0.   0.5  0.   0.   0.   0.   0.   0.   0. ]\n",
            " [ 0.   0.  -0.5  0.   0.5  0.   0.   0.   0.   0.   0. ]\n",
            " [ 0.   0.   0.  -0.5  0.   0.5  0.   0.   0.   0.   0. ]\n",
            " [ 0.   0.   0.   0.  -0.5  0.   0.5  0.   0.   0.   0. ]\n",
            " [ 0.   0.   0.   0.   0.  -0.5  0.   0.5  0.   0.   0. ]\n",
            " [ 0.   0.   0.   0.   0.   0.  -0.5  0.   0.5  0.   0. ]\n",
            " [ 0.   0.   0.   0.   0.   0.   0.  -0.5  0.   0.5  0. ]\n",
            " [ 0.   0.   0.   0.   0.   0.   0.   0.  -0.5  0.   0.5]\n",
            " [ 0.   0.   0.   0.   0.   0.   0.   0.   0.  -1.   1. ]]\n"
          ],
          "name": "stdout"
        }
      ]
    },
    {
      "cell_type": "markdown",
      "metadata": {
        "id": "pkhBW-JpltR-"
      },
      "source": [
        "### Linear operator definition"
      ]
    },
    {
      "cell_type": "markdown",
      "metadata": {
        "id": "Iu2NiFRcltR_"
      },
      "source": [
        "**EX:** try writing the operator"
      ]
    },
    {
      "cell_type": "code",
      "metadata": {
        "id": "M0Jgv3xhltR_",
        "colab": {
          "base_uri": "https://localhost:8080/",
          "height": 128
        },
        "outputId": "9cbd9cdd-aa50-41b2-da74-3e8bef8f603b"
      },
      "source": [
        "class FirstDerivative(LinearOperator):\n",
        "    def __init__(self, ...):\n",
        "        # fill here\n",
        "\n",
        "    def _matvec(self, x):\n",
        "        # fill here\n",
        "\n",
        "    def _rmatvec(self, x):\n",
        "        # fill here"
      ],
      "execution_count": 13,
      "outputs": [
        {
          "output_type": "error",
          "ename": "SyntaxError",
          "evalue": "ignored",
          "traceback": [
            "\u001b[0;36m  File \u001b[0;32m\"<ipython-input-13-57f37ae6d3db>\"\u001b[0;36m, line \u001b[0;32m2\u001b[0m\n\u001b[0;31m    def __init__(self, ...):\u001b[0m\n\u001b[0m                         ^\u001b[0m\n\u001b[0;31mSyntaxError\u001b[0m\u001b[0;31m:\u001b[0m invalid syntax\n"
          ]
        }
      ]
    },
    {
      "cell_type": "markdown",
      "metadata": {
        "id": "cc49ikc7ltSA"
      },
      "source": [
        "**SOLUTION**"
      ]
    },
    {
      "cell_type": "code",
      "metadata": {
        "id": "oFBSYwj8ltSA"
      },
      "source": [
        "# %load -s FirstDerivative solutions/intro_sol.py"
      ],
      "execution_count": null,
      "outputs": []
    },
    {
      "cell_type": "markdown",
      "metadata": {
        "id": "r5oZ63_DltSA"
      },
      "source": [
        "Define the operator"
      ]
    },
    {
      "cell_type": "code",
      "metadata": {
        "id": "MBCi6JB1ltSB",
        "colab": {
          "base_uri": "https://localhost:8080/"
        },
        "outputId": "82d52c07-8be7-450a-cdad-1489e04feae8"
      },
      "source": [
        "Dop = pylops.FirstDerivative(nx, edge=True)\n",
        "print('Dop: ', Dop)"
      ],
      "execution_count": 15,
      "outputs": [
        {
          "output_type": "stream",
          "text": [
            "Dop:  <11x11 FirstDerivative with dtype=float64>\n"
          ],
          "name": "stdout"
        }
      ]
    },
    {
      "cell_type": "markdown",
      "metadata": {
        "id": "Ib8-gUS9ltSB"
      },
      "source": [
        "Perform the dot test"
      ]
    },
    {
      "cell_type": "code",
      "metadata": {
        "id": "W20Knfo7ltSB",
        "colab": {
          "base_uri": "https://localhost:8080/"
        },
        "outputId": "ff1974bb-0d70-42bd-e69f-2296f32d038c"
      },
      "source": [
        "dottest(Dop, nx, nx, verb=True);"
      ],
      "execution_count": 16,
      "outputs": [
        {
          "output_type": "stream",
          "text": [
            "Dot test passed, v^T(Opu)=-0.791881 - u^T(Op^Tv)=-0.791881\n"
          ],
          "name": "stdout"
        }
      ]
    },
    {
      "cell_type": "markdown",
      "metadata": {
        "id": "A0tK3khpltSC"
      },
      "source": [
        "Now that you understand, you can use PyLops implementation of this operator (see https://pylops.readthedocs.io/en/latest/api/generated/pylops.FirstDerivative.html for details)"
      ]
    },
    {
      "cell_type": "code",
      "metadata": {
        "id": "7LnNAHrVltSC",
        "colab": {
          "base_uri": "https://localhost:8080/"
        },
        "outputId": "e21457c2-de5a-4424-ea29-8e5019dbbc4c"
      },
      "source": [
        "Dop = pylops.FirstDerivative(nx, edge=True)\n",
        "print('Dop: ', Dop)"
      ],
      "execution_count": 17,
      "outputs": [
        {
          "output_type": "stream",
          "text": [
            "Dop:  <11x11 FirstDerivative with dtype=float64>\n"
          ],
          "name": "stdout"
        }
      ]
    },
    {
      "cell_type": "code",
      "metadata": {
        "id": "DUHIGbjtltSC",
        "colab": {
          "base_uri": "https://localhost:8080/"
        },
        "outputId": "936b074d-c38b-41f5-fe4a-e1f40e2209ea"
      },
      "source": [
        "dottest(Dop, nx, nx, verb=True);"
      ],
      "execution_count": 18,
      "outputs": [
        {
          "output_type": "stream",
          "text": [
            "Dot test passed, v^T(Opu)=5.101046 - u^T(Op^Tv)=5.101046\n"
          ],
          "name": "stdout"
        }
      ]
    },
    {
      "cell_type": "markdown",
      "metadata": {
        "id": "_tmtWCneltSD"
      },
      "source": [
        "### Linear operator application"
      ]
    },
    {
      "cell_type": "code",
      "metadata": {
        "id": "qm5KHCLnltSD",
        "colab": {
          "base_uri": "https://localhost:8080/"
        },
        "outputId": "294e9cf2-3d91-47f5-a3df-a90b6d0a0d56"
      },
      "source": [
        "x = np.arange(nx) - (nx-1)/2\n",
        "print('x: ', x)"
      ],
      "execution_count": 19,
      "outputs": [
        {
          "output_type": "stream",
          "text": [
            "x:  [-5. -4. -3. -2. -1.  0.  1.  2.  3.  4.  5.]\n"
          ],
          "name": "stdout"
        }
      ]
    },
    {
      "cell_type": "markdown",
      "metadata": {
        "id": "fRqsz0bgltSE"
      },
      "source": [
        "Forward"
      ]
    },
    {
      "cell_type": "code",
      "metadata": {
        "id": "7dLx0p6MltSE",
        "colab": {
          "base_uri": "https://localhost:8080/"
        },
        "outputId": "616d5a84-5f92-4db2-b5f5-c2d899e9c5de"
      },
      "source": [
        "y = np.dot(D, x)\n",
        "print('y: ', y)\n",
        "\n",
        "y = Dop * x\n",
        "print('y: ', y)"
      ],
      "execution_count": 20,
      "outputs": [
        {
          "output_type": "stream",
          "text": [
            "y:  [1. 1. 1. 1. 1. 1. 1. 1. 1. 1. 1.]\n",
            "y:  [1. 1. 1. 1. 1. 1. 1. 1. 1. 1. 1.]\n"
          ],
          "name": "stdout"
        }
      ]
    },
    {
      "cell_type": "markdown",
      "metadata": {
        "id": "b48ZuxhcltSE"
      },
      "source": [
        "Adjoint"
      ]
    },
    {
      "cell_type": "code",
      "metadata": {
        "id": "A5FBj-3wltSF",
        "colab": {
          "base_uri": "https://localhost:8080/"
        },
        "outputId": "fb69c547-f2d7-4b97-c846-bcbe504b1bef"
      },
      "source": [
        "xadj = np.dot(D.T, y)\n",
        "print('xadj: ', xadj)\n",
        "\n",
        "xadj = Dop.H * y\n",
        "print('xadj: ', xadj)"
      ],
      "execution_count": 21,
      "outputs": [
        {
          "output_type": "stream",
          "text": [
            "xadj:  [-1.5  0.5  0.   0.   0.   0.   0.   0.   0.  -0.5  1.5]\n",
            "xadj:  [-1.5  0.5  0.   0.   0.   0.   0.   0.   0.  -0.5  1.5]\n"
          ],
          "name": "stdout"
        }
      ]
    },
    {
      "cell_type": "markdown",
      "metadata": {
        "id": "LPDREpyiltSF"
      },
      "source": [
        "**EX:** Same as before, let's time our two implementations"
      ]
    },
    {
      "cell_type": "code",
      "metadata": {
        "id": "aNY1HWBRltSF"
      },
      "source": [
        "# %load -s FirstDerivative_timing solutions/intro_sol.py"
      ],
      "execution_count": null,
      "outputs": []
    },
    {
      "cell_type": "markdown",
      "metadata": {
        "id": "_GpA17gvltSG"
      },
      "source": [
        "**EX:** try to compare the memory footprint of the matrix $\\mathbf{D}$ compared to its equivalent linear operator. Hint: install ``pympler`` and use ``pympler.asizeof``"
      ]
    },
    {
      "cell_type": "code",
      "metadata": {
        "id": "PpmwaUX-ltSG"
      },
      "source": [
        "# %load -s FirstDerivative_memory solutions/intro_sol.py"
      ],
      "execution_count": null,
      "outputs": []
    },
    {
      "cell_type": "markdown",
      "metadata": {
        "id": "pT8S4a3CltSH"
      },
      "source": [
        "Finally, let's try to move on step further and try to solve the inverse problem. \n",
        "\n",
        "For the dense matrix, we will use `scipy.linalg.lstsq`. For operator PyLops this can be very easily done by using the '/' which will call `scipy.sparse.linalg.lsqr` solver (you can also use this solver directly if you want to fine tune some of its input parameters"
      ]
    },
    {
      "cell_type": "code",
      "metadata": {
        "id": "2Az8c_TAltSH",
        "colab": {
          "base_uri": "https://localhost:8080/"
        },
        "outputId": "0788a4d1-eede-4194-e68c-ba27dc67fa06"
      },
      "source": [
        "xinv = lstsq(D, y)[0]\n",
        "print('xinv: ', xinv)\n",
        "\n",
        "xinv = Dop / y\n",
        "print('xinv: ', xinv)"
      ],
      "execution_count": 22,
      "outputs": [
        {
          "output_type": "stream",
          "text": [
            "xinv:  [-5.00000000e+00 -4.00000000e+00 -3.00000000e+00 -2.00000000e+00\n",
            " -1.00000000e+00 -1.33226763e-15  1.00000000e+00  2.00000000e+00\n",
            "  3.00000000e+00  4.00000000e+00  5.00000000e+00]\n",
            "xinv:  [-5. -4. -3. -2. -1.  0.  1.  2.  3.  4.  5.]\n"
          ],
          "name": "stdout"
        }
      ]
    },
    {
      "cell_type": "markdown",
      "metadata": {
        "id": "XvPcVbzcltSI"
      },
      "source": [
        "In both cases we have retrieved the correct solution!"
      ]
    },
    {
      "cell_type": "markdown",
      "metadata": {
        "id": "JS0xdJaMltSI"
      },
      "source": [
        "## Chaining operators\n",
        "\n",
        "Up until now, we have discussed how brand new operators can be created in few systematic steps. This sounds cool, but it may look like we would need to do this every time we need to solve a new problem.\n",
        "\n",
        "This is where **PyLops** comes in. Alongside providing users with an extensive collection of operators, the library allows such operators to be combined via basic algebraic operations (eg summed, subtracted, multiplied) or chained together (vertical and horizontal stacking, block and block diagonal).\n",
        "\n",
        "We will see more of this in the following. For now let's imagine to have a modelling operator that is a smooth first-order derivative. To do so we can chain the ``FirstDerivative`` operator ($\\mathbf{D}$) that we have just created with a smoothing operator ($\\mathbf{S}$)(https://pylops.readthedocs.io/en/latest/api/generated/pylops.Smoothing1D.html#pylops.Smoothing1D) and write the following problem:\n",
        "\n",
        "$$\\mathbf{y} = \\mathbf{S} \\mathbf{D} \\mathbf{x}$$\n",
        "\n",
        "<img src=\"https://github.com/mrava87/pylops_pydata2020/blob/master/figs/smoothder.png?raw=1\" width=\"800\">\n",
        "\n",
        "Let's create it first and attempt to invert it afterwards."
      ]
    },
    {
      "cell_type": "code",
      "metadata": {
        "id": "UMuhe1T7ltSI",
        "colab": {
          "base_uri": "https://localhost:8080/",
          "height": 386
        },
        "outputId": "8f9add82-3ecb-49b0-b5f4-460378e7330a"
      },
      "source": [
        "nx = 51\n",
        "x = np.ones(nx)\n",
        "x[:nx//2] = -1\n",
        "\n",
        "Dop = pylops.FirstDerivative(nx, edge=True, kind='forward')\n",
        "Sop = pylops.Smoothing1D(5, nx)\n",
        "\n",
        "# Chain the two operators\n",
        "Op = Sop * Dop\n",
        "print(Op)\n",
        "\n",
        "# Create data\n",
        "y = Op * x\n",
        "\n",
        "# Invert\n",
        "xinv = Op / y\n",
        "xinv = pylops.optimization.leastsquares.NormalEquationsInversion(Op, [pylops.Identity(nx)], y, epsRs=[1e-3,])\n",
        "\n",
        "fig, (ax1, ax2) = plt.subplots(2, 1, figsize=(8, 5))\n",
        "ax1.plot(y, '.-k')\n",
        "ax1.set_title(r\"Data $y$\")\n",
        "ax2.plot(x, 'k', label='x')\n",
        "ax2.plot(xinv, '--r', label='xinv')\n",
        "ax2.legend()\n",
        "ax2.set_title(r\"Model $x$\")\n",
        "plt.tight_layout()"
      ],
      "execution_count": 23,
      "outputs": [
        {
          "output_type": "stream",
          "text": [
            "<51x51 LinearOperator with dtype=float64>\n"
          ],
          "name": "stdout"
        },
        {
          "output_type": "display_data",
          "data": {
            "image/png": "[encoded data removed]",
            "text/plain": [
              "<Figure size 576x360 with 2 Axes>"
            ]
          },
          "metadata": {
            "tags": [],
            "needs_background": "light"
          }
        }
      ]
    },
    {
      "cell_type": "markdown",
      "metadata": {
        "id": "e0uz3KULltSJ"
      },
      "source": [
        "## Recap\n",
        "\n",
        "In this first tutorial we have learned to:\n",
        "\n",
        "- translate a linear operator from pen and paper to computer code\n",
        "- write our own linear operators\n",
        "- use PyLops linear operators to perform forward, adjoint and inverse\n",
        "- combine PyLops linear operators."
      ]
    },
    {
      "cell_type": "code",
      "metadata": {
        "id": "aZ9_lDn_ltSK",
        "colab": {
          "base_uri": "https://localhost:8080/",
          "height": 171
        },
        "outputId": "e9b8ff07-3ea1-49ee-ced8-aa7c6ff39d11"
      },
      "source": [
        "scooby.Report(core='pylops')"
      ],
      "execution_count": 24,
      "outputs": [
        {
          "output_type": "execute_result",
          "data": {
            "text/html": [
              "<table style='border: 3px solid #ddd;'>\n",
              "  <tr>\n",
              "     <td style='text-align: center; font-weight: bold; font-size: 1.2em; border: 2px solid #fff;' colspan='6'>Tue Feb 16 17:16:17 2021 UTC</td>\n",
              "  </tr>\n",
              "  <tr>\n",
              "    <td style='text-align: right; background-color: #ccc; border: 2px solid #fff;'>OS</td>\n",
              "    <td style='text-align: left; border: 2px solid #fff;'>Linux</td>\n",
              "    <td style='text-align: right; background-color: #ccc; border: 2px solid #fff;'>CPU(s)</td>\n",
              "    <td style='text-align: left; border: 2px solid #fff;'>2</td>\n",
              "    <td style='text-align: right; background-color: #ccc; border: 2px solid #fff;'>Machine</td>\n",
              "    <td style='text-align: left; border: 2px solid #fff;'>x86_64</td>\n",
              "  </tr>\n",
              "  <tr>\n",
              "    <td style='text-align: right; background-color: #ccc; border: 2px solid #fff;'>Architecture</td>\n",
              "    <td style='text-align: left; border: 2px solid #fff;'>64bit</td>\n",
              "    <td style='text-align: right; background-color: #ccc; border: 2px solid #fff;'>RAM</td>\n",
              "    <td style='text-align: left; border: 2px solid #fff;'>12.7 GB</td>\n",
              "    <td style='text-align: right; background-color: #ccc; border: 2px solid #fff;'>Environment</td>\n",
              "    <td style='text-align: left; border: 2px solid #fff;'>IPython</td>\n",
              "  </tr>\n",
              "  <tr>\n",
              "     <td style='text-align: center; border: 2px solid #fff;' colspan='6'>Python 3.6.9 (default, Oct  8 2020, 12:12:24) \n",
              "[GCC 8.4.0]</td>\n",
              "  </tr>\n",
              "  <tr>\n",
              "    <td style='text-align: right; background-color: #ccc; border: 2px solid #fff;'>pylops</td>\n",
              "    <td style='text-align: left; border: 2px solid #fff;'>1.12.0</td>\n",
              "    <td style='text-align: right; background-color: #ccc; border: 2px solid #fff;'>numpy</td>\n",
              "    <td style='text-align: left; border: 2px solid #fff;'>1.19.5</td>\n",
              "    <td style='text-align: right; background-color: #ccc; border: 2px solid #fff;'>scipy</td>\n",
              "    <td style='text-align: left; border: 2px solid #fff;'>1.4.1</td>\n",
              "  </tr>\n",
              "  <tr>\n",
              "    <td style='text-align: right; background-color: #ccc; border: 2px solid #fff;'>IPython</td>\n",
              "    <td style='text-align: left; border: 2px solid #fff;'>5.5.0</td>\n",
              "    <td style='text-align: right; background-color: #ccc; border: 2px solid #fff;'>matplotlib</td>\n",
              "    <td style='text-align: left; border: 2px solid #fff;'>3.2.2</td>\n",
              "    <td style='text-align: right; background-color: #ccc; border: 2px solid #fff;'>scooby</td>\n",
              "    <td style='text-align: left; border: 2px solid #fff;'>0.5.6</td>\n",
              "  </tr>\n",
              "</table>"
            ],
            "text/plain": [
              "\n",
              "--------------------------------------------------------------------------------\n",
              "  Date: Tue Feb 16 17:16:17 2021 UTC\n",
              "\n",
              "                OS : Linux\n",
              "            CPU(s) : 2\n",
              "           Machine : x86_64\n",
              "      Architecture : 64bit\n",
              "               RAM : 12.7 GB\n",
              "       Environment : IPython\n",
              "\n",
              "  Python 3.6.9 (default, Oct  8 2020, 12:12:24)  [GCC 8.4.0]\n",
              "\n",
              "            pylops : 1.12.0\n",
              "             numpy : 1.19.5\n",
              "             scipy : 1.4.1\n",
              "           IPython : 5.5.0\n",
              "        matplotlib : 3.2.2\n",
              "            scooby : 0.5.6\n",
              "--------------------------------------------------------------------------------"
            ]
          },
          "metadata": {
            "tags": []
          },
          "execution_count": 24
        }
      ]
    },
    {
      "cell_type": "code",
      "metadata": {
        "id": "9YuCnzxkltSK"
      },
      "source": [
        ""
      ],
      "execution_count": null,
      "outputs": []
    }
  ]
}