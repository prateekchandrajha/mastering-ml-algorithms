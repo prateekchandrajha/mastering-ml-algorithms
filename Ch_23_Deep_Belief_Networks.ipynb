{
  "nbformat": 4,
  "nbformat_minor": 0,
  "metadata": {
    "colab": {
      "name": "Ch-23-Deep-Belief-Networks.ipynb",
      "provenance": [],
      "authorship_tag": "ABX9TyP1aKsSR1Q83ZOAF0Ez8Nb0",
      "include_colab_link": true
    },
    "kernelspec": {
      "name": "python3",
      "display_name": "Python 3"
    }
  },
  "cells": [
    {
      "cell_type": "markdown",
      "metadata": {
        "id": "view-in-github",
        "colab_type": "text"
      },
      "source": [
        "<a href=\"https://colab.research.google.com/github/prateekchandrajha/mastering-ml-algorithms/blob/main/Ch_23_Deep_Belief_Networks.ipynb\" target=\"_parent\"><img src=\"https://colab.research.google.com/assets/colab-badge.svg\" alt=\"Open In Colab\"/></a>"
      ]
    },
    {
      "cell_type": "markdown",
      "metadata": {
        "id": "vYAU5Qku5a7q"
      },
      "source": [
        "# Deep Belief Networks\r\n",
        "\r\n",
        "We're going to present two probabilistic generative models that\r\n",
        "employ a set of latent variables to represent a specific data generation process.\r\n",
        "Restricted Boltzmann Machines (RBMs), proposed in 1986, are the building\r\n",
        "blocks of a more complex model, called a Deep Belief Network (DBN), which is\r\n",
        "capable of capturing complex relationships among features at different levels (in a\r\n",
        "way not dissimilar to a deep convolutional network). Both models can be used in\r\n",
        "unsupervised and supervised scenarios as preprocessors or, as is usual with DBN,\r\n",
        "fine-tuning the parameters using a standard backpropagation algorithm."
      ]
    },
    {
      "cell_type": "markdown",
      "metadata": {
        "id": "n7qYOmEB5nY1"
      },
      "source": [
        "In this particular notebook, we will discuss:\r\n",
        "- Markov random fields (MRF)\r\n",
        "- RBM, including the Contrastive Divergence (CD-k) algorithm\r\n",
        "- DBN with supervised and unsupervised examples\r\n",
        "\r\n",
        "A Boltzmann distribution (also called Gibbs distribution) is a probability distribution or probability measure that gives the probability that a system will be in a certain state as a function of that state's energy and the temperature of the system."
      ]
    },
    {
      "cell_type": "code",
      "metadata": {
        "colab": {
          "base_uri": "https://localhost:8080/",
          "height": 1000
        },
        "id": "CD2ue6-TB4y-",
        "outputId": "e0f0d48f-70bc-40fe-9b4c-23a1dee960be"
      },
      "source": [
        "!pip install git+git://github.com/albertbup/deep-belief-network.git"
      ],
      "execution_count": 2,
      "outputs": [
        {
          "output_type": "stream",
          "text": [
            "Collecting git+git://github.com/albertbup/deep-belief-network.git\n",
            "  Cloning git://github.com/albertbup/deep-belief-network.git to /tmp/pip-req-build-uqpytpxy\n",
            "  Running command git clone -q git://github.com/albertbup/deep-belief-network.git /tmp/pip-req-build-uqpytpxy\n",
            "Collecting numpy==1.12.0\n",
            "\u001b[?25l  Downloading https://files.pythonhosted.org/packages/7d/db/04b13cd69a66657e27dd8af68650b5c8c511501f108358653fca8e52bf86/numpy-1.12.0-cp36-cp36m-manylinux1_x86_64.whl (16.8MB)\n",
            "\u001b[K     |████████████████████████████████| 16.8MB 1.1MB/s \n",
            "\u001b[?25hCollecting scipy==0.18.1\n",
            "\u001b[?25l  Downloading https://files.pythonhosted.org/packages/74/c0/f0bf4eaef1b6aa7bdd1ae5597ce1d9e729417b3ca085c47d0f1c640d34f8/scipy-0.18.1-cp36-cp36m-manylinux1_x86_64.whl (42.5MB)\n",
            "\u001b[K     |████████████████████████████████| 42.5MB 146kB/s \n",
            "\u001b[?25hCollecting scikit-learn==0.18.1\n",
            "\u001b[?25l  Downloading https://files.pythonhosted.org/packages/ae/d2/efa7f8bef195c459a527edc58bf863bd44fde727630486cb8256e9a5a326/scikit_learn-0.18.1-cp36-cp36m-manylinux1_x86_64.whl (11.8MB)\n",
            "\u001b[K     |████████████████████████████████| 11.8MB 36.1MB/s \n",
            "\u001b[?25hCollecting tensorflow==1.5.0\n",
            "\u001b[?25l  Downloading https://files.pythonhosted.org/packages/04/79/a37d0b373757b4d283c674a64127bd8864d69f881c639b1ee5953e2d9301/tensorflow-1.5.0-cp36-cp36m-manylinux1_x86_64.whl (44.4MB)\n",
            "\u001b[K     |████████████████████████████████| 44.4MB 76kB/s \n",
            "\u001b[?25hRequirement already satisfied: protobuf>=3.4.0 in /usr/local/lib/python3.6/dist-packages (from tensorflow==1.5.0->deep-belief-network==1.0.4) (3.12.4)\n",
            "Requirement already satisfied: wheel>=0.26 in /usr/local/lib/python3.6/dist-packages (from tensorflow==1.5.0->deep-belief-network==1.0.4) (0.36.2)\n",
            "Requirement already satisfied: absl-py>=0.1.6 in /usr/local/lib/python3.6/dist-packages (from tensorflow==1.5.0->deep-belief-network==1.0.4) (0.10.0)\n",
            "Collecting tensorflow-tensorboard<1.6.0,>=1.5.0\n",
            "\u001b[?25l  Downloading https://files.pythonhosted.org/packages/cc/fa/91c06952517b4f1bc075545b062a4112e30cebe558a6b962816cb33efa27/tensorflow_tensorboard-1.5.1-py3-none-any.whl (3.0MB)\n",
            "\u001b[K     |████████████████████████████████| 3.0MB 51.2MB/s \n",
            "\u001b[?25hRequirement already satisfied: six>=1.10.0 in /usr/local/lib/python3.6/dist-packages (from tensorflow==1.5.0->deep-belief-network==1.0.4) (1.15.0)\n",
            "Requirement already satisfied: setuptools in /usr/local/lib/python3.6/dist-packages (from protobuf>=3.4.0->tensorflow==1.5.0->deep-belief-network==1.0.4) (51.3.3)\n",
            "Requirement already satisfied: markdown>=2.6.8 in /usr/local/lib/python3.6/dist-packages (from tensorflow-tensorboard<1.6.0,>=1.5.0->tensorflow==1.5.0->deep-belief-network==1.0.4) (3.3.3)\n",
            "Collecting bleach==1.5.0\n",
            "  Downloading https://files.pythonhosted.org/packages/33/70/86c5fec937ea4964184d4d6c4f0b9551564f821e1c3575907639036d9b90/bleach-1.5.0-py2.py3-none-any.whl\n",
            "Collecting html5lib==0.9999999\n",
            "\u001b[?25l  Downloading https://files.pythonhosted.org/packages/ae/ae/bcb60402c60932b32dfaf19bb53870b29eda2cd17551ba5639219fb5ebf9/html5lib-0.9999999.tar.gz (889kB)\n",
            "\u001b[K     |████████████████████████████████| 890kB 40.6MB/s \n",
            "\u001b[?25hRequirement already satisfied: werkzeug>=0.11.10 in /usr/local/lib/python3.6/dist-packages (from tensorflow-tensorboard<1.6.0,>=1.5.0->tensorflow==1.5.0->deep-belief-network==1.0.4) (1.0.1)\n",
            "Requirement already satisfied: importlib-metadata; python_version < \"3.8\" in /usr/local/lib/python3.6/dist-packages (from markdown>=2.6.8->tensorflow-tensorboard<1.6.0,>=1.5.0->tensorflow==1.5.0->deep-belief-network==1.0.4) (3.3.0)\n",
            "Requirement already satisfied: typing-extensions>=3.6.4; python_version < \"3.8\" in /usr/local/lib/python3.6/dist-packages (from importlib-metadata; python_version < \"3.8\"->markdown>=2.6.8->tensorflow-tensorboard<1.6.0,>=1.5.0->tensorflow==1.5.0->deep-belief-network==1.0.4) (3.7.4.3)\n",
            "Requirement already satisfied: zipp>=0.5 in /usr/local/lib/python3.6/dist-packages (from importlib-metadata; python_version < \"3.8\"->markdown>=2.6.8->tensorflow-tensorboard<1.6.0,>=1.5.0->tensorflow==1.5.0->deep-belief-network==1.0.4) (3.4.0)\n",
            "Building wheels for collected packages: deep-belief-network, html5lib\n",
            "  Building wheel for deep-belief-network (setup.py) ... \u001b[?25l\u001b[?25hdone\n",
            "  Created wheel for deep-belief-network: filename=deep_belief_network-1.0.4-cp36-none-any.whl size=13462 sha256=a0eb9b14a7d7c40e6bcefab34df802b034ce5b0831f05c3c52b249350d0019b6\n",
            "  Stored in directory: /tmp/pip-ephem-wheel-cache-i9n4_wkp/wheels/29/6d/3b/6a50cf42a32bdfaa903b17832d60d8d3e5dc4b0fd02ae8acaf\n",
            "  Building wheel for html5lib (setup.py) ... \u001b[?25l\u001b[?25hdone\n",
            "  Created wheel for html5lib: filename=html5lib-0.9999999-cp36-none-any.whl size=107222 sha256=186c1e4bbaa5eecca87c5215c9356c56e1d4cc09bb4f34086860fd3dcb3e2d23\n",
            "  Stored in directory: /root/.cache/pip/wheels/50/ae/f9/d2b189788efcf61d1ee0e36045476735c838898eef1cad6e29\n",
            "Successfully built deep-belief-network html5lib\n",
            "\u001b[31mERROR: yellowbrick 0.9.1 has requirement numpy>=1.13.0, but you'll have numpy 1.12.0 which is incompatible.\u001b[0m\n",
            "\u001b[31mERROR: yellowbrick 0.9.1 has requirement scikit-learn>=0.20, but you'll have scikit-learn 0.18.1 which is incompatible.\u001b[0m\n",
            "\u001b[31mERROR: yellowbrick 0.9.1 has requirement scipy>=1.0.0, but you'll have scipy 0.18.1 which is incompatible.\u001b[0m\n",
            "\u001b[31mERROR: xarray 0.15.1 has requirement numpy>=1.15, but you'll have numpy 1.12.0 which is incompatible.\u001b[0m\n",
            "\u001b[31mERROR: umap-learn 0.4.6 has requirement numpy>=1.17, but you'll have numpy 1.12.0 which is incompatible.\u001b[0m\n",
            "\u001b[31mERROR: umap-learn 0.4.6 has requirement scikit-learn>=0.20, but you'll have scikit-learn 0.18.1 which is incompatible.\u001b[0m\n",
            "\u001b[31mERROR: umap-learn 0.4.6 has requirement scipy>=1.3.1, but you'll have scipy 0.18.1 which is incompatible.\u001b[0m\n",
            "\u001b[31mERROR: tifffile 2020.9.3 has requirement numpy>=1.15.1, but you'll have numpy 1.12.0 which is incompatible.\u001b[0m\n",
            "\u001b[31mERROR: tensorflow 1.5.0 has requirement numpy>=1.12.1, but you'll have numpy 1.12.0 which is incompatible.\u001b[0m\n",
            "\u001b[31mERROR: tensorflow-probability 0.12.1 has requirement numpy>=1.13.3, but you'll have numpy 1.12.0 which is incompatible.\u001b[0m\n",
            "\u001b[31mERROR: spacy 2.2.4 has requirement numpy>=1.15.0, but you'll have numpy 1.12.0 which is incompatible.\u001b[0m\n",
            "\u001b[31mERROR: seaborn 0.11.1 has requirement numpy>=1.15, but you'll have numpy 1.12.0 which is incompatible.\u001b[0m\n",
            "\u001b[31mERROR: seaborn 0.11.1 has requirement scipy>=1.0, but you'll have scipy 0.18.1 which is incompatible.\u001b[0m\n",
            "\u001b[31mERROR: scikit-image 0.16.2 has requirement scipy>=0.19.0, but you'll have scipy 0.18.1 which is incompatible.\u001b[0m\n",
            "\u001b[31mERROR: pywavelets 1.1.1 has requirement numpy>=1.13.3, but you'll have numpy 1.12.0 which is incompatible.\u001b[0m\n",
            "\u001b[31mERROR: pysndfile 1.3.8 has requirement numpy>=1.13.0, but you'll have numpy 1.12.0 which is incompatible.\u001b[0m\n",
            "\u001b[31mERROR: pymc3 3.7 has requirement numpy>=1.13.0, but you'll have numpy 1.12.0 which is incompatible.\u001b[0m\n",
            "\u001b[31mERROR: pyarrow 0.14.1 has requirement numpy>=1.14, but you'll have numpy 1.12.0 which is incompatible.\u001b[0m\n",
            "\u001b[31mERROR: plotnine 0.6.0 has requirement numpy>=1.16.0, but you'll have numpy 1.12.0 which is incompatible.\u001b[0m\n",
            "\u001b[31mERROR: plotnine 0.6.0 has requirement scipy>=1.2.0, but you'll have scipy 0.18.1 which is incompatible.\u001b[0m\n",
            "\u001b[31mERROR: pandas 1.1.5 has requirement numpy>=1.15.4, but you'll have numpy 1.12.0 which is incompatible.\u001b[0m\n",
            "\u001b[31mERROR: numba 0.48.0 has requirement numpy>=1.15, but you'll have numpy 1.12.0 which is incompatible.\u001b[0m\n",
            "\u001b[31mERROR: librosa 0.6.3 has requirement scipy>=1.0.0, but you'll have scipy 0.18.1 which is incompatible.\u001b[0m\n",
            "\u001b[31mERROR: imgaug 0.2.9 has requirement numpy>=1.15.0, but you'll have numpy 1.12.0 which is incompatible.\u001b[0m\n",
            "\u001b[31mERROR: imbalanced-learn 0.4.3 has requirement scikit-learn>=0.20, but you'll have scikit-learn 0.18.1 which is incompatible.\u001b[0m\n",
            "\u001b[31mERROR: fbprophet 0.7.1 has requirement numpy>=1.15.4, but you'll have numpy 1.12.0 which is incompatible.\u001b[0m\n",
            "\u001b[31mERROR: fastai 1.0.61 has requirement numpy>=1.15, but you'll have numpy 1.12.0 which is incompatible.\u001b[0m\n",
            "\u001b[31mERROR: fancyimpute 0.4.3 has requirement scikit-learn>=0.19.1, but you'll have scikit-learn 0.18.1 which is incompatible.\u001b[0m\n",
            "\u001b[31mERROR: datascience 0.10.6 has requirement folium==0.2.1, but you'll have folium 0.8.3 which is incompatible.\u001b[0m\n",
            "\u001b[31mERROR: cvxpy 1.0.31 has requirement numpy>=1.15, but you'll have numpy 1.12.0 which is incompatible.\u001b[0m\n",
            "\u001b[31mERROR: cvxpy 1.0.31 has requirement scipy>=1.1.0, but you'll have scipy 0.18.1 which is incompatible.\u001b[0m\n",
            "\u001b[31mERROR: blis 0.4.1 has requirement numpy>=1.15.0, but you'll have numpy 1.12.0 which is incompatible.\u001b[0m\n",
            "\u001b[31mERROR: astropy 4.1 has requirement numpy>=1.16, but you'll have numpy 1.12.0 which is incompatible.\u001b[0m\n",
            "\u001b[31mERROR: albumentations 0.1.12 has requirement imgaug<0.2.7,>=0.2.5, but you'll have imgaug 0.2.9 which is incompatible.\u001b[0m\n",
            "Installing collected packages: numpy, scipy, scikit-learn, html5lib, bleach, tensorflow-tensorboard, tensorflow, deep-belief-network\n",
            "  Found existing installation: numpy 1.19.5\n",
            "    Uninstalling numpy-1.19.5:\n",
            "      Successfully uninstalled numpy-1.19.5\n",
            "  Found existing installation: scipy 1.4.1\n",
            "    Uninstalling scipy-1.4.1:\n",
            "      Successfully uninstalled scipy-1.4.1\n",
            "  Found existing installation: scikit-learn 0.22.2.post1\n",
            "    Uninstalling scikit-learn-0.22.2.post1:\n",
            "      Successfully uninstalled scikit-learn-0.22.2.post1\n",
            "  Found existing installation: html5lib 1.0.1\n",
            "    Uninstalling html5lib-1.0.1:\n",
            "      Successfully uninstalled html5lib-1.0.1\n",
            "  Found existing installation: bleach 3.2.1\n",
            "    Uninstalling bleach-3.2.1:\n",
            "      Successfully uninstalled bleach-3.2.1\n",
            "  Found existing installation: tensorflow 2.4.0\n",
            "    Uninstalling tensorflow-2.4.0:\n",
            "      Successfully uninstalled tensorflow-2.4.0\n",
            "Successfully installed bleach-1.5.0 deep-belief-network-1.0.4 html5lib-0.9999999 numpy-1.12.0 scikit-learn-0.18.1 scipy-0.18.1 tensorflow-1.5.0 tensorflow-tensorboard-1.5.1\n"
          ],
          "name": "stdout"
        },
        {
          "output_type": "display_data",
          "data": {
            "application/vnd.colab-display-data+json": {
              "pip_warning": {
                "packages": [
                  "numpy"
                ]
              }
            }
          },
          "metadata": {
            "tags": []
          }
        }
      ]
    },
    {
      "cell_type": "code",
      "metadata": {
        "id": "IbSmAUQGA_Ps"
      },
      "source": [
        "from dbn import UnsupervisedDBN"
      ],
      "execution_count": 3,
      "outputs": []
    },
    {
      "cell_type": "code",
      "metadata": {
        "colab": {
          "base_uri": "https://localhost:8080/"
        },
        "id": "vsURhiBEBos_",
        "outputId": "e62d9f3d-d8c1-4687-b42a-dddd1de4b377"
      },
      "source": [
        "import numpy as np\r\n",
        "import tensorflow as tf\r\n",
        "from sklearn.utils import shuffle\r\n",
        "\r\n",
        "(X_train, Y_train), (_, _) = \\\r\n",
        " tf.keras.datasets.mnist.load_data()\r\n",
        "\r\n",
        "X_train, Y_train = shuffle(X_train, Y_train,\r\n",
        " random_state=1000)\r\n",
        "\r\n",
        "width = X_train.shape[1]\r\n",
        "height = X_train.shape[2]\r\n",
        "nb_samples = 400\r\n",
        "\r\n",
        "X = X_train[0:nb_samples].reshape(\r\n",
        " (nb_samples, width * height)).\\\r\n",
        " astype(np.float32) / 255.0\r\n",
        " \r\n",
        "Y = Y_train[0:nb_samples]"
      ],
      "execution_count": 4,
      "outputs": [
        {
          "output_type": "stream",
          "text": [
            "/usr/local/lib/python3.6/dist-packages/tensorflow/python/framework/dtypes.py:493: FutureWarning: Passing (type, 1) or '1type' as a synonym of type is deprecated; in a future version of numpy, it will be understood as (type, (1,)) / '(1,)type'.\n",
            "  _np_qint8 = np.dtype([(\"qint8\", np.int8, 1)])\n",
            "/usr/local/lib/python3.6/dist-packages/tensorflow/python/framework/dtypes.py:494: FutureWarning: Passing (type, 1) or '1type' as a synonym of type is deprecated; in a future version of numpy, it will be understood as (type, (1,)) / '(1,)type'.\n",
            "  _np_quint8 = np.dtype([(\"quint8\", np.uint8, 1)])\n",
            "/usr/local/lib/python3.6/dist-packages/tensorflow/python/framework/dtypes.py:495: FutureWarning: Passing (type, 1) or '1type' as a synonym of type is deprecated; in a future version of numpy, it will be understood as (type, (1,)) / '(1,)type'.\n",
            "  _np_qint16 = np.dtype([(\"qint16\", np.int16, 1)])\n",
            "/usr/local/lib/python3.6/dist-packages/tensorflow/python/framework/dtypes.py:496: FutureWarning: Passing (type, 1) or '1type' as a synonym of type is deprecated; in a future version of numpy, it will be understood as (type, (1,)) / '(1,)type'.\n",
            "  _np_quint16 = np.dtype([(\"quint16\", np.uint16, 1)])\n",
            "/usr/local/lib/python3.6/dist-packages/tensorflow/python/framework/dtypes.py:497: FutureWarning: Passing (type, 1) or '1type' as a synonym of type is deprecated; in a future version of numpy, it will be understood as (type, (1,)) / '(1,)type'.\n",
            "  _np_qint32 = np.dtype([(\"qint32\", np.int32, 1)])\n",
            "/usr/local/lib/python3.6/dist-packages/tensorflow/python/framework/dtypes.py:502: FutureWarning: Passing (type, 1) or '1type' as a synonym of type is deprecated; in a future version of numpy, it will be understood as (type, (1,)) / '(1,)type'.\n",
            "  np_resource = np.dtype([(\"resource\", np.ubyte, 1)])\n"
          ],
          "name": "stderr"
        },
        {
          "output_type": "stream",
          "text": [
            "Downloading data from https://s3.amazonaws.com/img-datasets/mnist.npz\n",
            "11493376/11490434 [==============================]11493376/11490434 [==============================] - 0s 0us/step\n",
            "\n"
          ],
          "name": "stdout"
        }
      ]
    },
    {
      "cell_type": "code",
      "metadata": {
        "colab": {
          "base_uri": "https://localhost:8080/"
        },
        "id": "2sM1VS6ACVIQ",
        "outputId": "a766b586-d5ea-4469-959d-b7849f910353"
      },
      "source": [
        "unsupervised_dbn = UnsupervisedDBN(\r\n",
        " hidden_layers_structure=[512, 256, 64],\r\n",
        " learning_rate_rbm=0.05,\r\n",
        " n_epochs_rbm=100,\r\n",
        " batch_size=64,\r\n",
        " activation_function='sigmoid')\r\n",
        "\r\n",
        "X_dbn = unsupervised_dbn.fit_transform(X)"
      ],
      "execution_count": 5,
      "outputs": [
        {
          "output_type": "stream",
          "text": [
            "[START] Pre-training step:\n",
            ">> Epoch 1 finished \tRBM Reconstruction error 48.016402\n",
            ">> Epoch 2 finished \tRBM Reconstruction error 46.810811\n",
            ">> Epoch 3 finished \tRBM Reconstruction error 45.011379\n",
            ">> Epoch 4 finished \tRBM Reconstruction error 42.557323\n",
            ">> Epoch 5 finished \tRBM Reconstruction error 39.891303\n",
            ">> Epoch 6 finished \tRBM Reconstruction error 37.403722\n",
            ">> Epoch 7 finished \tRBM Reconstruction error 35.484298\n",
            ">> Epoch 8 finished \tRBM Reconstruction error 33.678006\n",
            ">> Epoch 9 finished \tRBM Reconstruction error 32.152239\n",
            ">> Epoch 10 finished \tRBM Reconstruction error 30.870490\n",
            ">> Epoch 11 finished \tRBM Reconstruction error 29.693026\n",
            ">> Epoch 12 finished \tRBM Reconstruction error 28.690731\n",
            ">> Epoch 13 finished \tRBM Reconstruction error 27.873825\n",
            ">> Epoch 14 finished \tRBM Reconstruction error 27.188675\n",
            ">> Epoch 15 finished \tRBM Reconstruction error 26.395407\n",
            ">> Epoch 16 finished \tRBM Reconstruction error 25.654855\n",
            ">> Epoch 17 finished \tRBM Reconstruction error 25.059635\n",
            ">> Epoch 18 finished \tRBM Reconstruction error 24.456394\n",
            ">> Epoch 19 finished \tRBM Reconstruction error 23.893706\n",
            ">> Epoch 20 finished \tRBM Reconstruction error 23.297200\n",
            ">> Epoch 21 finished \tRBM Reconstruction error 22.690977\n",
            ">> Epoch 22 finished \tRBM Reconstruction error 22.297499\n",
            ">> Epoch 23 finished \tRBM Reconstruction error 21.788348\n",
            ">> Epoch 24 finished \tRBM Reconstruction error 21.293708\n",
            ">> Epoch 25 finished \tRBM Reconstruction error 20.814651\n",
            ">> Epoch 26 finished \tRBM Reconstruction error 20.374778\n",
            ">> Epoch 27 finished \tRBM Reconstruction error 19.986614\n",
            ">> Epoch 28 finished \tRBM Reconstruction error 19.581620\n",
            ">> Epoch 29 finished \tRBM Reconstruction error 19.210030\n",
            ">> Epoch 30 finished \tRBM Reconstruction error 18.867431\n",
            ">> Epoch 31 finished \tRBM Reconstruction error 18.550593\n",
            ">> Epoch 32 finished \tRBM Reconstruction error 18.239120\n",
            ">> Epoch 33 finished \tRBM Reconstruction error 17.910543\n",
            ">> Epoch 34 finished \tRBM Reconstruction error 17.543461\n",
            ">> Epoch 35 finished \tRBM Reconstruction error 17.256901\n",
            ">> Epoch 36 finished \tRBM Reconstruction error 17.036288\n",
            ">> Epoch 37 finished \tRBM Reconstruction error 16.696809\n",
            ">> Epoch 38 finished \tRBM Reconstruction error 16.431227\n",
            ">> Epoch 39 finished \tRBM Reconstruction error 16.237799\n",
            ">> Epoch 40 finished \tRBM Reconstruction error 15.947937\n",
            ">> Epoch 41 finished \tRBM Reconstruction error 15.733857\n",
            ">> Epoch 42 finished \tRBM Reconstruction error 15.500780\n",
            ">> Epoch 43 finished \tRBM Reconstruction error 15.269374\n",
            ">> Epoch 44 finished \tRBM Reconstruction error 15.031159\n",
            ">> Epoch 45 finished \tRBM Reconstruction error 14.842617\n",
            ">> Epoch 46 finished \tRBM Reconstruction error 14.598435\n",
            ">> Epoch 47 finished \tRBM Reconstruction error 14.403611\n",
            ">> Epoch 48 finished \tRBM Reconstruction error 14.234510\n",
            ">> Epoch 49 finished \tRBM Reconstruction error 14.006167\n",
            ">> Epoch 50 finished \tRBM Reconstruction error 13.867080\n",
            ">> Epoch 51 finished \tRBM Reconstruction error 13.677077\n",
            ">> Epoch 52 finished \tRBM Reconstruction error 13.502622\n",
            ">> Epoch 53 finished \tRBM Reconstruction error 13.322150\n",
            ">> Epoch 54 finished \tRBM Reconstruction error 13.203484\n",
            ">> Epoch 55 finished \tRBM Reconstruction error 12.979966\n",
            ">> Epoch 56 finished \tRBM Reconstruction error 12.867662\n",
            ">> Epoch 57 finished \tRBM Reconstruction error 12.647403\n",
            ">> Epoch 58 finished \tRBM Reconstruction error 12.532159\n",
            ">> Epoch 59 finished \tRBM Reconstruction error 12.381469\n",
            ">> Epoch 60 finished \tRBM Reconstruction error 12.257347\n",
            ">> Epoch 61 finished \tRBM Reconstruction error 12.137565\n",
            ">> Epoch 62 finished \tRBM Reconstruction error 11.948985\n",
            ">> Epoch 63 finished \tRBM Reconstruction error 11.857037\n",
            ">> Epoch 64 finished \tRBM Reconstruction error 11.671662\n",
            ">> Epoch 65 finished \tRBM Reconstruction error 11.555226\n",
            ">> Epoch 66 finished \tRBM Reconstruction error 11.484975\n",
            ">> Epoch 67 finished \tRBM Reconstruction error 11.357948\n",
            ">> Epoch 68 finished \tRBM Reconstruction error 11.197786\n",
            ">> Epoch 69 finished \tRBM Reconstruction error 11.103819\n",
            ">> Epoch 70 finished \tRBM Reconstruction error 10.955273\n",
            ">> Epoch 71 finished \tRBM Reconstruction error 10.836387\n",
            ">> Epoch 72 finished \tRBM Reconstruction error 10.741540\n",
            ">> Epoch 73 finished \tRBM Reconstruction error 10.654908\n",
            ">> Epoch 74 finished \tRBM Reconstruction error 10.571179\n",
            ">> Epoch 75 finished \tRBM Reconstruction error 10.417987\n",
            ">> Epoch 76 finished \tRBM Reconstruction error 10.338579\n",
            ">> Epoch 77 finished \tRBM Reconstruction error 10.223110\n",
            ">> Epoch 78 finished \tRBM Reconstruction error 10.124298\n",
            ">> Epoch 79 finished \tRBM Reconstruction error 9.989079\n",
            ">> Epoch 80 finished \tRBM Reconstruction error 9.928574\n",
            ">> Epoch 81 finished \tRBM Reconstruction error 9.859059\n",
            ">> Epoch 82 finished \tRBM Reconstruction error 9.734033\n",
            ">> Epoch 83 finished \tRBM Reconstruction error 9.663938\n",
            ">> Epoch 84 finished \tRBM Reconstruction error 9.560710\n",
            ">> Epoch 85 finished \tRBM Reconstruction error 9.458127\n",
            ">> Epoch 86 finished \tRBM Reconstruction error 9.379846\n",
            ">> Epoch 87 finished \tRBM Reconstruction error 9.277306\n",
            ">> Epoch 88 finished \tRBM Reconstruction error 9.176101\n",
            ">> Epoch 89 finished \tRBM Reconstruction error 9.138694\n",
            ">> Epoch 90 finished \tRBM Reconstruction error 9.019332\n",
            ">> Epoch 91 finished \tRBM Reconstruction error 8.939116\n",
            ">> Epoch 92 finished \tRBM Reconstruction error 8.897219\n",
            ">> Epoch 93 finished \tRBM Reconstruction error 8.792883\n",
            ">> Epoch 94 finished \tRBM Reconstruction error 8.709791\n",
            ">> Epoch 95 finished \tRBM Reconstruction error 8.631717\n",
            ">> Epoch 96 finished \tRBM Reconstruction error 8.546617\n",
            ">> Epoch 97 finished \tRBM Reconstruction error 8.475561\n",
            ">> Epoch 98 finished \tRBM Reconstruction error 8.430826\n",
            ">> Epoch 99 finished \tRBM Reconstruction error 8.324444\n",
            ">> Epoch 100 finished \tRBM Reconstruction error 8.233854\n",
            ">> Epoch 1 finished \tRBM Reconstruction error 43.180226\n",
            ">> Epoch 2 finished \tRBM Reconstruction error 41.648991\n",
            ">> Epoch 3 finished \tRBM Reconstruction error 39.589070\n",
            ">> Epoch 4 finished \tRBM Reconstruction error 36.903618\n",
            ">> Epoch 5 finished \tRBM Reconstruction error 33.492679\n",
            ">> Epoch 6 finished \tRBM Reconstruction error 30.273400\n",
            ">> Epoch 7 finished \tRBM Reconstruction error 27.782669\n",
            ">> Epoch 8 finished \tRBM Reconstruction error 25.761524\n",
            ">> Epoch 9 finished \tRBM Reconstruction error 24.081185\n",
            ">> Epoch 10 finished \tRBM Reconstruction error 22.735454\n",
            ">> Epoch 11 finished \tRBM Reconstruction error 21.462215\n",
            ">> Epoch 12 finished \tRBM Reconstruction error 20.463892\n",
            ">> Epoch 13 finished \tRBM Reconstruction error 19.564230\n",
            ">> Epoch 14 finished \tRBM Reconstruction error 18.756649\n",
            ">> Epoch 15 finished \tRBM Reconstruction error 18.030114\n",
            ">> Epoch 16 finished \tRBM Reconstruction error 17.319446\n",
            ">> Epoch 17 finished \tRBM Reconstruction error 16.659316\n",
            ">> Epoch 18 finished \tRBM Reconstruction error 16.068493\n",
            ">> Epoch 19 finished \tRBM Reconstruction error 15.524302\n",
            ">> Epoch 20 finished \tRBM Reconstruction error 14.939135\n",
            ">> Epoch 21 finished \tRBM Reconstruction error 14.466235\n",
            ">> Epoch 22 finished \tRBM Reconstruction error 13.903235\n",
            ">> Epoch 23 finished \tRBM Reconstruction error 13.474051\n",
            ">> Epoch 24 finished \tRBM Reconstruction error 13.040534\n",
            ">> Epoch 25 finished \tRBM Reconstruction error 12.572169\n",
            ">> Epoch 26 finished \tRBM Reconstruction error 12.206503\n",
            ">> Epoch 27 finished \tRBM Reconstruction error 11.777399\n",
            ">> Epoch 28 finished \tRBM Reconstruction error 11.486661\n",
            ">> Epoch 29 finished \tRBM Reconstruction error 11.104862\n",
            ">> Epoch 30 finished \tRBM Reconstruction error 10.767484\n",
            ">> Epoch 31 finished \tRBM Reconstruction error 10.481764\n",
            ">> Epoch 32 finished \tRBM Reconstruction error 10.199343\n",
            ">> Epoch 33 finished \tRBM Reconstruction error 9.927096\n",
            ">> Epoch 34 finished \tRBM Reconstruction error 9.665342\n",
            ">> Epoch 35 finished \tRBM Reconstruction error 9.392088\n",
            ">> Epoch 36 finished \tRBM Reconstruction error 9.193399\n",
            ">> Epoch 37 finished \tRBM Reconstruction error 8.933378\n",
            ">> Epoch 38 finished \tRBM Reconstruction error 8.730496\n",
            ">> Epoch 39 finished \tRBM Reconstruction error 8.535882\n",
            ">> Epoch 40 finished \tRBM Reconstruction error 8.338442\n",
            ">> Epoch 41 finished \tRBM Reconstruction error 8.165556\n",
            ">> Epoch 42 finished \tRBM Reconstruction error 7.970021\n",
            ">> Epoch 43 finished \tRBM Reconstruction error 7.817854\n",
            ">> Epoch 44 finished \tRBM Reconstruction error 7.665082\n",
            ">> Epoch 45 finished \tRBM Reconstruction error 7.498729\n",
            ">> Epoch 46 finished \tRBM Reconstruction error 7.336507\n",
            ">> Epoch 47 finished \tRBM Reconstruction error 7.194560\n",
            ">> Epoch 48 finished \tRBM Reconstruction error 7.074067\n",
            ">> Epoch 49 finished \tRBM Reconstruction error 6.906824\n",
            ">> Epoch 50 finished \tRBM Reconstruction error 6.798042\n",
            ">> Epoch 51 finished \tRBM Reconstruction error 6.653677\n",
            ">> Epoch 52 finished \tRBM Reconstruction error 6.554337\n",
            ">> Epoch 53 finished \tRBM Reconstruction error 6.430118\n",
            ">> Epoch 54 finished \tRBM Reconstruction error 6.311487\n",
            ">> Epoch 55 finished \tRBM Reconstruction error 6.209963\n",
            ">> Epoch 56 finished \tRBM Reconstruction error 6.096519\n",
            ">> Epoch 57 finished \tRBM Reconstruction error 6.013400\n",
            ">> Epoch 58 finished \tRBM Reconstruction error 5.907295\n",
            ">> Epoch 59 finished \tRBM Reconstruction error 5.798978\n",
            ">> Epoch 60 finished \tRBM Reconstruction error 5.723694\n",
            ">> Epoch 61 finished \tRBM Reconstruction error 5.617704\n",
            ">> Epoch 62 finished \tRBM Reconstruction error 5.554584\n",
            ">> Epoch 63 finished \tRBM Reconstruction error 5.448691\n",
            ">> Epoch 64 finished \tRBM Reconstruction error 5.389694\n",
            ">> Epoch 65 finished \tRBM Reconstruction error 5.294962\n",
            ">> Epoch 66 finished \tRBM Reconstruction error 5.236178\n",
            ">> Epoch 67 finished \tRBM Reconstruction error 5.158885\n",
            ">> Epoch 68 finished \tRBM Reconstruction error 5.089652\n",
            ">> Epoch 69 finished \tRBM Reconstruction error 4.989814\n",
            ">> Epoch 70 finished \tRBM Reconstruction error 4.946298\n",
            ">> Epoch 71 finished \tRBM Reconstruction error 4.896911\n",
            ">> Epoch 72 finished \tRBM Reconstruction error 4.849415\n",
            ">> Epoch 73 finished \tRBM Reconstruction error 4.780051\n",
            ">> Epoch 74 finished \tRBM Reconstruction error 4.699743\n",
            ">> Epoch 75 finished \tRBM Reconstruction error 4.643186\n",
            ">> Epoch 76 finished \tRBM Reconstruction error 4.604551\n",
            ">> Epoch 77 finished \tRBM Reconstruction error 4.530619\n",
            ">> Epoch 78 finished \tRBM Reconstruction error 4.483237\n",
            ">> Epoch 79 finished \tRBM Reconstruction error 4.431030\n",
            ">> Epoch 80 finished \tRBM Reconstruction error 4.364827\n",
            ">> Epoch 81 finished \tRBM Reconstruction error 4.337406\n",
            ">> Epoch 82 finished \tRBM Reconstruction error 4.268657\n",
            ">> Epoch 83 finished \tRBM Reconstruction error 4.224024\n",
            ">> Epoch 84 finished \tRBM Reconstruction error 4.203349\n",
            ">> Epoch 85 finished \tRBM Reconstruction error 4.140509\n",
            ">> Epoch 86 finished \tRBM Reconstruction error 4.095794\n",
            ">> Epoch 87 finished \tRBM Reconstruction error 4.049929\n",
            ">> Epoch 88 finished \tRBM Reconstruction error 4.004480\n",
            ">> Epoch 89 finished \tRBM Reconstruction error 3.973270\n",
            ">> Epoch 90 finished \tRBM Reconstruction error 3.940147\n",
            ">> Epoch 91 finished \tRBM Reconstruction error 3.888297\n",
            ">> Epoch 92 finished \tRBM Reconstruction error 3.858260\n",
            ">> Epoch 93 finished \tRBM Reconstruction error 3.814683\n",
            ">> Epoch 94 finished \tRBM Reconstruction error 3.800377\n",
            ">> Epoch 95 finished \tRBM Reconstruction error 3.755628\n",
            ">> Epoch 96 finished \tRBM Reconstruction error 3.715491\n",
            ">> Epoch 97 finished \tRBM Reconstruction error 3.672111\n",
            ">> Epoch 98 finished \tRBM Reconstruction error 3.637192\n",
            ">> Epoch 99 finished \tRBM Reconstruction error 3.606321\n",
            ">> Epoch 100 finished \tRBM Reconstruction error 3.577508\n",
            ">> Epoch 1 finished \tRBM Reconstruction error 32.404069\n",
            ">> Epoch 2 finished \tRBM Reconstruction error 30.144548\n",
            ">> Epoch 3 finished \tRBM Reconstruction error 29.091553\n",
            ">> Epoch 4 finished \tRBM Reconstruction error 28.343765\n",
            ">> Epoch 5 finished \tRBM Reconstruction error 27.676103\n",
            ">> Epoch 6 finished \tRBM Reconstruction error 26.973742\n",
            ">> Epoch 7 finished \tRBM Reconstruction error 26.198846\n",
            ">> Epoch 8 finished \tRBM Reconstruction error 25.319798\n",
            ">> Epoch 9 finished \tRBM Reconstruction error 24.428253\n",
            ">> Epoch 10 finished \tRBM Reconstruction error 23.520770\n",
            ">> Epoch 11 finished \tRBM Reconstruction error 22.694856\n",
            ">> Epoch 12 finished \tRBM Reconstruction error 21.897954\n",
            ">> Epoch 13 finished \tRBM Reconstruction error 21.130281\n",
            ">> Epoch 14 finished \tRBM Reconstruction error 20.440167\n",
            ">> Epoch 15 finished \tRBM Reconstruction error 19.821472\n",
            ">> Epoch 16 finished \tRBM Reconstruction error 19.225150\n",
            ">> Epoch 17 finished \tRBM Reconstruction error 18.689417\n",
            ">> Epoch 18 finished \tRBM Reconstruction error 18.175212\n",
            ">> Epoch 19 finished \tRBM Reconstruction error 17.722123\n",
            ">> Epoch 20 finished \tRBM Reconstruction error 17.276141\n",
            ">> Epoch 21 finished \tRBM Reconstruction error 16.845950\n",
            ">> Epoch 22 finished \tRBM Reconstruction error 16.464330\n",
            ">> Epoch 23 finished \tRBM Reconstruction error 16.052443\n",
            ">> Epoch 24 finished \tRBM Reconstruction error 15.676569\n",
            ">> Epoch 25 finished \tRBM Reconstruction error 15.346055\n",
            ">> Epoch 26 finished \tRBM Reconstruction error 14.989108\n",
            ">> Epoch 27 finished \tRBM Reconstruction error 14.673357\n",
            ">> Epoch 28 finished \tRBM Reconstruction error 14.367971\n",
            ">> Epoch 29 finished \tRBM Reconstruction error 14.066389\n",
            ">> Epoch 30 finished \tRBM Reconstruction error 13.793313\n",
            ">> Epoch 31 finished \tRBM Reconstruction error 13.534211\n",
            ">> Epoch 32 finished \tRBM Reconstruction error 13.280327\n",
            ">> Epoch 33 finished \tRBM Reconstruction error 13.039320\n",
            ">> Epoch 34 finished \tRBM Reconstruction error 12.819021\n",
            ">> Epoch 35 finished \tRBM Reconstruction error 12.596479\n",
            ">> Epoch 36 finished \tRBM Reconstruction error 12.378923\n",
            ">> Epoch 37 finished \tRBM Reconstruction error 12.178291\n",
            ">> Epoch 38 finished \tRBM Reconstruction error 11.992580\n",
            ">> Epoch 39 finished \tRBM Reconstruction error 11.799935\n",
            ">> Epoch 40 finished \tRBM Reconstruction error 11.618113\n",
            ">> Epoch 41 finished \tRBM Reconstruction error 11.443472\n",
            ">> Epoch 42 finished \tRBM Reconstruction error 11.280860\n",
            ">> Epoch 43 finished \tRBM Reconstruction error 11.119167\n",
            ">> Epoch 44 finished \tRBM Reconstruction error 10.955940\n",
            ">> Epoch 45 finished \tRBM Reconstruction error 10.803176\n",
            ">> Epoch 46 finished \tRBM Reconstruction error 10.657234\n",
            ">> Epoch 47 finished \tRBM Reconstruction error 10.508378\n",
            ">> Epoch 48 finished \tRBM Reconstruction error 10.370656\n",
            ">> Epoch 49 finished \tRBM Reconstruction error 10.226330\n",
            ">> Epoch 50 finished \tRBM Reconstruction error 10.088685\n",
            ">> Epoch 51 finished \tRBM Reconstruction error 9.965354\n",
            ">> Epoch 52 finished \tRBM Reconstruction error 9.836198\n",
            ">> Epoch 53 finished \tRBM Reconstruction error 9.716059\n",
            ">> Epoch 54 finished \tRBM Reconstruction error 9.585914\n",
            ">> Epoch 55 finished \tRBM Reconstruction error 9.473298\n",
            ">> Epoch 56 finished \tRBM Reconstruction error 9.360231\n",
            ">> Epoch 57 finished \tRBM Reconstruction error 9.240389\n",
            ">> Epoch 58 finished \tRBM Reconstruction error 9.127779\n",
            ">> Epoch 59 finished \tRBM Reconstruction error 9.026350\n",
            ">> Epoch 60 finished \tRBM Reconstruction error 8.922523\n",
            ">> Epoch 61 finished \tRBM Reconstruction error 8.817863\n",
            ">> Epoch 62 finished \tRBM Reconstruction error 8.713632\n",
            ">> Epoch 63 finished \tRBM Reconstruction error 8.612174\n",
            ">> Epoch 64 finished \tRBM Reconstruction error 8.518111\n",
            ">> Epoch 65 finished \tRBM Reconstruction error 8.426622\n",
            ">> Epoch 66 finished \tRBM Reconstruction error 8.334397\n",
            ">> Epoch 67 finished \tRBM Reconstruction error 8.245457\n",
            ">> Epoch 68 finished \tRBM Reconstruction error 8.158932\n",
            ">> Epoch 69 finished \tRBM Reconstruction error 8.067965\n",
            ">> Epoch 70 finished \tRBM Reconstruction error 7.984457\n",
            ">> Epoch 71 finished \tRBM Reconstruction error 7.901923\n",
            ">> Epoch 72 finished \tRBM Reconstruction error 7.820930\n",
            ">> Epoch 73 finished \tRBM Reconstruction error 7.740637\n",
            ">> Epoch 74 finished \tRBM Reconstruction error 7.662907\n",
            ">> Epoch 75 finished \tRBM Reconstruction error 7.583156\n",
            ">> Epoch 76 finished \tRBM Reconstruction error 7.514983\n",
            ">> Epoch 77 finished \tRBM Reconstruction error 7.444070\n",
            ">> Epoch 78 finished \tRBM Reconstruction error 7.372017\n",
            ">> Epoch 79 finished \tRBM Reconstruction error 7.294178\n",
            ">> Epoch 80 finished \tRBM Reconstruction error 7.236953\n",
            ">> Epoch 81 finished \tRBM Reconstruction error 7.165072\n",
            ">> Epoch 82 finished \tRBM Reconstruction error 7.099945\n",
            ">> Epoch 83 finished \tRBM Reconstruction error 7.040676\n",
            ">> Epoch 84 finished \tRBM Reconstruction error 6.980720\n",
            ">> Epoch 85 finished \tRBM Reconstruction error 6.924960\n",
            ">> Epoch 86 finished \tRBM Reconstruction error 6.857293\n",
            ">> Epoch 87 finished \tRBM Reconstruction error 6.796585\n",
            ">> Epoch 88 finished \tRBM Reconstruction error 6.734028\n",
            ">> Epoch 89 finished \tRBM Reconstruction error 6.680916\n",
            ">> Epoch 90 finished \tRBM Reconstruction error 6.631999\n",
            ">> Epoch 91 finished \tRBM Reconstruction error 6.569088\n",
            ">> Epoch 92 finished \tRBM Reconstruction error 6.516420\n",
            ">> Epoch 93 finished \tRBM Reconstruction error 6.465127\n",
            ">> Epoch 94 finished \tRBM Reconstruction error 6.418908\n",
            ">> Epoch 95 finished \tRBM Reconstruction error 6.361233\n",
            ">> Epoch 96 finished \tRBM Reconstruction error 6.317734\n",
            ">> Epoch 97 finished \tRBM Reconstruction error 6.268094\n",
            ">> Epoch 98 finished \tRBM Reconstruction error 6.218649\n",
            ">> Epoch 99 finished \tRBM Reconstruction error 6.176479\n",
            ">> Epoch 100 finished \tRBM Reconstruction error 6.132950\n",
            "[END] Pre-training step\n"
          ],
          "name": "stdout"
        }
      ]
    },
    {
      "cell_type": "code",
      "metadata": {
        "id": "Xg5gb5ZgCfOh"
      },
      "source": [
        "from sklearn.manifold import TSNE\r\n",
        "\r\n",
        "tsne = TSNE(n_components=2,\r\n",
        " perplexity=10,\r\n",
        " random_state=1000)\r\n",
        "\r\n",
        "X_tsne = tsne.fit_transform(X_dbn)"
      ],
      "execution_count": 6,
      "outputs": []
    },
    {
      "cell_type": "code",
      "metadata": {
        "colab": {
          "base_uri": "https://localhost:8080/"
        },
        "id": "dPMoFzLMKuMK",
        "outputId": "5e5b7fd3-1042-4553-9389-7d1b7736bc11"
      },
      "source": [
        "X_tsne.shape"
      ],
      "execution_count": 9,
      "outputs": [
        {
          "output_type": "execute_result",
          "data": {
            "text/plain": [
              "(400, 2)"
            ]
          },
          "metadata": {
            "tags": []
          },
          "execution_count": 9
        }
      ]
    },
    {
      "cell_type": "code",
      "metadata": {
        "colab": {
          "base_uri": "https://localhost:8080/",
          "height": 284
        },
        "id": "9e21r3yiKckW",
        "outputId": "8b41efd2-b17f-471f-8381-4016afe02e50"
      },
      "source": [
        "import matplotlib.pyplot as plt\r\n",
        "Y=X_tsne\r\n",
        "plt.scatter(Y[:, 0], Y[:, 1])"
      ],
      "execution_count": 12,
      "outputs": [
        {
          "output_type": "execute_result",
          "data": {
            "text/plain": [
              "<matplotlib.collections.PathCollection at 0x7f6eaf659fd0>"
            ]
          },
          "metadata": {
            "tags": []
          },
          "execution_count": 12
        },
        {
          "output_type": "display_data",
          "data": {
            "image/png": "[encoded data removed]",
            "text/plain": [
              "<Figure size 432x288 with 1 Axes>"
            ]
          },
          "metadata": {
            "tags": [],
            "needs_background": "light"
          }
        }
      ]
    }
  ]
}