{
  "nbformat": 4,
  "nbformat_minor": 0,
  "metadata": {
    "colab": {
      "name": "CVXPY-Convex-Optimization.ipynb",
      "provenance": [],
      "authorship_tag": "ABX9TyN8Vgve1EVmbkfSz3vSo8XK",
      "include_colab_link": true
    },
    "kernelspec": {
      "name": "python3",
      "display_name": "Python 3"
    }
  },
  "cells": [
    {
      "cell_type": "markdown",
      "metadata": {
        "id": "view-in-github",
        "colab_type": "text"
      },
      "source": [
        "<a href=\"https://colab.research.google.com/github/prateekchandrajha/mastering-ml-algorithms/blob/main/CVXPY_Convex_Optimization.ipynb\" target=\"_parent\"><img src=\"https://colab.research.google.com/assets/colab-badge.svg\" alt=\"Open In Colab\"/></a>"
      ]
    },
    {
      "cell_type": "markdown",
      "metadata": {
        "id": "fO9zIwsvHTmA"
      },
      "source": [
        "Notebook For Talk: https://www.youtube.com/watch?v=kXqu-TqEl7Q\r\n",
        "\r\n",
        "CVXPY is a domain-specific language for convex optimization embedded in Python. It allows the user to express convex optimization problems in a natural syntax that follows the math, rather than in the restrictive standard form required by solvers. CVXPY has been used in hundreds of research projects and by Fortune 500 companies. \r\n",
        "\r\n",
        "In this talk, we will show how easy it is to formulate and solve optimization problems with CVXPY through example applications in finance and renewable energy."
      ]
    },
    {
      "cell_type": "markdown",
      "metadata": {
        "id": "9JENSa40JAJv"
      },
      "source": [
        "CVXPY - FOCUS ON WHAT TO SOLVE THAN HOW TO SOLVE IN CONVEX PROBLEMS:\r\n",
        "- used signed disciplined convex programming (dcp) to verify convexity\r\n",
        "- open source solvers\r\n",
        "- supports parameters\r\n",
        "- not a solver but a modeling framework\r\n",
        "- pythonic connections ubiquitous \r\n",
        "- solvers ECOS cone solver, SCS first order openMP cone solver, OSQP first order QP LP\r\n",
        "- CVXOPT, GLPK, GUROBI, MOSEK, Cbc"
      ]
    },
    {
      "cell_type": "markdown",
      "metadata": {
        "id": "KFHbPhulJ0BG"
      },
      "source": [
        "## Example - Constrained Lasso"
      ]
    },
    {
      "cell_type": "code",
      "metadata": {
        "id": "JF7KRBHcHJCI"
      },
      "source": [
        "import cvxpy as cp\r\n",
        "import numpy\r\n",
        "\r\n",
        "# Problem data.\r\n",
        "m = 30\r\n",
        "n = 20\r\n",
        "numpy.random.seed(1)\r\n",
        "A = numpy.random.randn(m, n)\r\n",
        "b = numpy.random.randn(m)"
      ],
      "execution_count": 5,
      "outputs": []
    },
    {
      "cell_type": "code",
      "metadata": {
        "colab": {
          "base_uri": "https://localhost:8080/"
        },
        "id": "oGBydTr6P4w6",
        "outputId": "63bf713c-4b83-490a-bc1a-b42833369e7d"
      },
      "source": [
        "# Construct the problem.\r\n",
        "x = cp.Variable(n)\r\n",
        "objective = cp.Minimize(cp.sum_squares(A @ x - b))\r\n",
        "constraints = [0 <= x, x <= 1]\r\n",
        "prob = cp.Problem(objective, constraints)\r\n",
        "\r\n",
        "# The optimal objective is returned by prob.solve().\r\n",
        "result = prob.solve()\r\n",
        "# The optimal value for x is stored in x.value.\r\n",
        "print(x.value)\r\n",
        "# The optimal Lagrange multiplier for a constraint\r\n",
        "# is stored in constraint.dual_value.\r\n",
        "print(constraints[0].dual_value)"
      ],
      "execution_count": 7,
      "outputs": [
        {
          "output_type": "stream",
          "text": [
            "[-1.79109253e-19  2.85112420e-02  2.79973443e-19  3.37658751e-20\n",
            " -2.72802659e-19  1.49285011e-01 -9.97212062e-20  8.35373892e-20\n",
            "  2.46718649e-01  5.78224144e-01 -4.03739462e-19  1.01242860e-03\n",
            " -9.28486200e-20  2.26767464e-01 -1.58813677e-19 -8.97232308e-20\n",
            " -1.22145726e-19 -1.51509432e-19  1.12060673e-19 -3.48318630e-19]\n",
            "[ 2.50938945  0.          2.78354615  1.79425782 13.08579183  0.\n",
            "  0.73716363  3.35344995  0.          0.          8.93825054  0.\n",
            "  7.02955161  0.          4.71068649  3.18873635  2.06090107 10.08166738\n",
            "  3.0481157   8.53268239]\n"
          ],
          "name": "stdout"
        }
      ]
    },
    {
      "cell_type": "code",
      "metadata": {
        "colab": {
          "base_uri": "https://localhost:8080/"
        },
        "id": "HFeGVyk7J7xS",
        "outputId": "77545d76-604f-489c-838c-e42ad097ad3d"
      },
      "source": [
        "gamma = 0.1\r\n",
        "x = Variable(n)\r\n",
        "cost = sum_squares(A*x-b) + gamma*norm(x,1)\r\n",
        "obj = Minimize(cost)\r\n",
        "constr = [sum(x)==0, norm(x,\"inf\")<=1]\r\n",
        "prob = Problem(obj, constr)\r\n",
        "opt_val = prob.solve()\r\n",
        "solution = x.value\r\n",
        "print(solution)"
      ],
      "execution_count": 11,
      "outputs": [
        {
          "output_type": "stream",
          "text": [
            "[-0.1230911   0.04220552 -0.28460404 -0.2911146  -0.37113261  0.09136383\n",
            "  0.21940223 -0.0055652   0.24400742  0.76819467 -0.10806811  0.05423878\n",
            "  0.01272722  0.33735446 -0.16910407 -0.05660613 -0.05520448 -0.17746152\n",
            " -0.07651879 -0.05102349]\n"
          ],
          "name": "stdout"
        }
      ]
    },
    {
      "cell_type": "markdown",
      "metadata": {
        "id": "h98bZB8JK-ir"
      },
      "source": [
        "## Parameters in CVXPY\r\n",
        "\r\n",
        "- symbolic rep of constants\r\n",
        "- can specify sign for use in DCP analysis\r\n",
        "- change value of constant without reparsing problem"
      ]
    },
    {
      "cell_type": "code",
      "metadata": {
        "id": "xPwr6nD7KYUq"
      },
      "source": [
        "x_values = []\r\n",
        "\r\n",
        "for value in numpy.logspace(-4, 2, 100):\r\n",
        "  gamma.value = val\r\n",
        "  prob.solve()\r\n",
        "  x_values.append(x.value)"
      ],
      "execution_count": null,
      "outputs": []
    },
    {
      "cell_type": "markdown",
      "metadata": {
        "id": "698jhcp2Li56"
      },
      "source": [
        "## Parallel Style Trade Off Curve\r\n",
        "\r\n",
        "- use tools for parallelism in standard library\r\n",
        "- parallel computation with N processes"
      ]
    },
    {
      "cell_type": "code",
      "metadata": {
        "id": "_lFYcGL8Lcw9"
      },
      "source": [
        "from multiprocessing import pool\r\n",
        "\r\n",
        "def get_x(gamma_value):\r\n",
        "  gamma.value = gamma_value\r\n",
        "  result = prob.solve()\r\n",
        "  return x.value\r\n",
        "\r\n",
        "pool = Pool(processes = N)\r\n",
        "x_values = pool.map(get_x, numpy.logspace(-4, 2, 100))"
      ],
      "execution_count": null,
      "outputs": []
    },
    {
      "cell_type": "markdown",
      "metadata": {
        "id": "WkJn1KHgMK2L"
      },
      "source": [
        "CVXPY is building block for non-convex optimization (DCCP, NCVX).\r\n",
        "\r\n",
        "CVXPortfolio "
      ]
    },
    {
      "cell_type": "markdown",
      "metadata": {
        "id": "6KK805LiRCqI"
      },
      "source": [
        "## Infeasible Problems\r\n",
        "\r\n",
        "Notice that for a minimization problem the optimal value is inf if infeasible and -inf if unbounded. For maximization problems the opposite is true."
      ]
    },
    {
      "cell_type": "code",
      "metadata": {
        "colab": {
          "base_uri": "https://localhost:8080/"
        },
        "id": "1kmIWbJ4RCIx",
        "outputId": "753dce60-9f58-43e4-fdcb-40ab40767172"
      },
      "source": [
        "x = cp.Variable()\r\n",
        "\r\n",
        "# An infeasible problem.\r\n",
        "prob = cp.Problem(cp.Minimize(x), [x >= 1, x <= 0])\r\n",
        "prob.solve()\r\n",
        "print(\"status:\", prob.status)\r\n",
        "print(\"optimal value\", prob.value)\r\n",
        "\r\n",
        "# An unbounded problem.\r\n",
        "prob = cp.Problem(cp.Minimize(x))\r\n",
        "prob.solve()\r\n",
        "print(\"status:\", prob.status)\r\n",
        "print(\"optimal value\", prob.value)"
      ],
      "execution_count": 13,
      "outputs": [
        {
          "output_type": "stream",
          "text": [
            "status: infeasible\n",
            "optimal value inf\n",
            "status: unbounded\n",
            "optimal value -inf\n"
          ],
          "name": "stdout"
        }
      ]
    },
    {
      "cell_type": "markdown",
      "metadata": {
        "id": "2tuONIeBRdqZ"
      },
      "source": [
        "## Vectors and Matrices\r\n",
        "\r\n",
        "You can use your numeric library of choice to construct matrix and vector constants. For instance, if x is a CVXPY Variable in the expression A @ x + b, A and b could be Numpy ndarrays, SciPy sparse matrices, etc. A and b could even be different types."
      ]
    },
    {
      "cell_type": "code",
      "metadata": {
        "id": "8HJRz3GcRFRB"
      },
      "source": [
        "# A scalar variable.\r\n",
        "a = cp.Variable()\r\n",
        "\r\n",
        "# Vector variable with shape (5,).\r\n",
        "x = cp.Variable(5)\r\n",
        "\r\n",
        "# Matrix variable with shape (5, 1).\r\n",
        "x = cp.Variable((5, 1))\r\n",
        "\r\n",
        "# Matrix variable with shape (4, 7).\r\n",
        "A = cp.Variable((4, 7))"
      ],
      "execution_count": 14,
      "outputs": []
    },
    {
      "cell_type": "code",
      "metadata": {
        "colab": {
          "base_uri": "https://localhost:8080/"
        },
        "id": "GOEfEc0ARhO9",
        "outputId": "30a47e52-3a72-4297-8160-ee3f18f11d6b"
      },
      "source": [
        "# Solves a bounded least-squares problem.\r\n",
        "\r\n",
        "# Problem data.\r\n",
        "\r\n",
        "m = 10\r\n",
        "n = 5\r\n",
        "numpy.random.seed(1)\r\n",
        "A = numpy.random.randn(m, n)\r\n",
        "b = numpy.random.randn(m)\r\n",
        "\r\n",
        "# Construct the problem.\r\n",
        "\r\n",
        "x = cp.Variable(n)\r\n",
        "objective = cp.Minimize(cp.sum_squares(A @ x - b))\r\n",
        "constraints = [0 <= x, x <= 1]\r\n",
        "prob = cp.Problem(objective, constraints)\r\n",
        "\r\n",
        "print(\"Optimal value\", prob.solve())\r\n",
        "print(\"Optimal var\")\r\n",
        "print(x.value) # A numpy ndarray."
      ],
      "execution_count": 15,
      "outputs": [
        {
          "output_type": "stream",
          "text": [
            "Optimal value 4.141338603672535\n",
            "Optimal var\n",
            "[-4.95922264e-21  6.07571976e-21  1.34643668e-01  1.24976681e-01\n",
            " -4.57130806e-21]\n"
          ],
          "name": "stdout"
        }
      ]
    },
    {
      "cell_type": "markdown",
      "metadata": {
        "id": "BATXt0_JSbPK"
      },
      "source": [
        "## Trade-Off Curves for Constrained LASSO using Paramaters "
      ]
    },
    {
      "cell_type": "code",
      "metadata": {
        "colab": {
          "base_uri": "https://localhost:8080/"
        },
        "id": "5r5FOSDETG67",
        "outputId": "be60e753-7c13-498f-a2cd-0f3382f451a0"
      },
      "source": [
        "!pip install latex"
      ],
      "execution_count": 18,
      "outputs": [
        {
          "output_type": "stream",
          "text": [
            "Collecting latex\n",
            "  Downloading https://files.pythonhosted.org/packages/e3/f3/c2562ee509faadaaf4f9d5b9491de146c6522ed2843dcecfd4f8e1a72f1d/latex-0.7.0.tar.gz\n",
            "Collecting tempdir\n",
            "  Downloading https://files.pythonhosted.org/packages/dd/b2/b931869a9f9ad9fa14deecbcfc28e514b0755f8b904d9fe48864951b1a60/tempdir-0.7.1.tar.gz\n",
            "Collecting data\n",
            "  Downloading https://files.pythonhosted.org/packages/ed/e9/623be82fac4250fc614741f5b1ead83d339794f94b19ac8665b6ea12ee05/data-0.4.tar.gz\n",
            "Requirement already satisfied: future in /usr/local/lib/python3.6/dist-packages (from latex) (0.16.0)\n",
            "Collecting shutilwhich\n",
            "  Downloading https://files.pythonhosted.org/packages/66/be/783f181594bb8bcfde174d6cd1e41956b986d0d8d337d535eb2555b92f8d/shutilwhich-1.1.0.tar.gz\n",
            "Requirement already satisfied: six in /usr/local/lib/python3.6/dist-packages (from data->latex) (1.15.0)\n",
            "Requirement already satisfied: decorator in /usr/local/lib/python3.6/dist-packages (from data->latex) (4.4.2)\n",
            "Collecting funcsigs\n",
            "  Downloading https://files.pythonhosted.org/packages/69/cb/f5be453359271714c01b9bd06126eaf2e368f1fddfff30818754b5ac2328/funcsigs-1.0.2-py2.py3-none-any.whl\n",
            "Building wheels for collected packages: latex, tempdir, data, shutilwhich\n",
            "  Building wheel for latex (setup.py) ... \u001b[?25l\u001b[?25hdone\n",
            "  Created wheel for latex: filename=latex-0.7.0-cp36-none-any.whl size=7604 sha256=a8bb8c68195b1eef0b56aabb5b0dc05f56db944e72c074a62868482120e66926\n",
            "  Stored in directory: /root/.cache/pip/wheels/a5/00/74/5aed853dec3fbc45e9c9cf4949f664f1bd8b6f3e6def432019\n",
            "  Building wheel for tempdir (setup.py) ... \u001b[?25l\u001b[?25hdone\n",
            "  Created wheel for tempdir: filename=tempdir-0.7.1-cp36-none-any.whl size=2214 sha256=08db3f96911b8fb299a8ad58049ca0ecab3ebd9a5489762113ac1500c220ae99\n",
            "  Stored in directory: /root/.cache/pip/wheels/7b/f2/40/6806964a69dfe3e46eff51b06a9a036af80b933479536fa295\n",
            "  Building wheel for data (setup.py) ... \u001b[?25l\u001b[?25hdone\n",
            "  Created wheel for data: filename=data-0.4-cp36-none-any.whl size=7247 sha256=0d4a740e972a5dfe203705b39f70da2c5cc366135d79f2d4ab7051dfba5bdbfa\n",
            "  Stored in directory: /root/.cache/pip/wheels/f6/09/e5/5afbc45fb0de471541092c7cd8b48d3483be68b1890955e6b9\n",
            "  Building wheel for shutilwhich (setup.py) ... \u001b[?25l\u001b[?25hdone\n",
            "  Created wheel for shutilwhich: filename=shutilwhich-1.1.0-cp36-none-any.whl size=2785 sha256=8ee1b68921963fab86cfda0c755e6851b619bf020cbeb4ec8b106030e2464bf3\n",
            "  Stored in directory: /root/.cache/pip/wheels/05/ef/eb/27a815601fa45bbb0301dae456f0853700502233b801fe4bb1\n",
            "Successfully built latex tempdir data shutilwhich\n",
            "Installing collected packages: tempdir, funcsigs, data, shutilwhich, latex\n",
            "Successfully installed data-0.4 funcsigs-1.0.2 latex-0.7.0 shutilwhich-1.1.0 tempdir-0.7.1\n"
          ],
          "name": "stdout"
        }
      ]
    },
    {
      "cell_type": "code",
      "metadata": {
        "id": "p49SXSVFRtTt"
      },
      "source": [
        "import matplotlib.pyplot as plt\r\n",
        "# import latex\r\n",
        "\r\n",
        "# Problem data.\r\n",
        "n = 15\r\n",
        "m = 10\r\n",
        "numpy.random.seed(1)\r\n",
        "A = numpy.random.randn(n, m)\r\n",
        "b = numpy.random.randn(n)\r\n",
        "# gamma must be nonnegative due to DCP rules.\r\n",
        "gamma = cp.Parameter(nonneg=True)\r\n",
        "\r\n",
        "# Construct the problem.\r\n",
        "x = cp.Variable(m)\r\n",
        "error = cp.sum_squares(A @ x - b)\r\n",
        "obj = cp.Minimize(error + gamma*cp.norm(x, 1))\r\n",
        "prob = cp.Problem(obj)\r\n",
        "\r\n",
        "# Construct a trade-off curve of ||Ax-b||^2 vs. ||x||_1\r\n",
        "sq_penalty = []\r\n",
        "l1_penalty = []\r\n",
        "x_values = []\r\n",
        "gamma_vals = numpy.logspace(-4, 6)\r\n",
        "for val in gamma_vals:\r\n",
        "    gamma.value = val\r\n",
        "    prob.solve()\r\n",
        "    # Use expr.value to get the numerical value of\r\n",
        "    # an expression in the problem.\r\n",
        "    sq_penalty.append(error.value)\r\n",
        "    l1_penalty.append(cp.norm(x, 1).value)\r\n",
        "    x_values.append(x.value)\r\n",
        "\r\n",
        "# plt.rc('text', usetex=True)\r\n",
        "plt.rc('font', family='serif')\r\n",
        "plt.figure(figsize=(6,10))\r\n",
        "\r\n",
        "# Plot trade-off curve.\r\n",
        "plt.subplot(211)\r\n",
        "plt.plot(l1_penalty, sq_penalty)\r\n",
        "plt.xlabel('x_1', fontsize=16)\r\n",
        "plt.ylabel('Ax-b', fontsize=16)\r\n",
        "plt.title('Trade-Off Curve for LASSO', fontsize=16)\r\n",
        "\r\n",
        "# Plot entries of x vs. gamma.\r\n",
        "plt.subplot(212)\r\n",
        "for i in range(m):\r\n",
        "    plt.plot(gamma_vals, [xi[i] for xi in x_values])\r\n",
        "plt.xlabel('gamma', fontsize=16)\r\n",
        "plt.ylabel('xi', fontsize=16)\r\n",
        "plt.xscale('log')\r\n",
        "plt.title('x v gamma', fontsize=16)\r\n",
        "\r\n",
        "plt.tight_layout()\r\n",
        "plt.show()"
      ],
      "execution_count": null,
      "outputs": []
    },
    {
      "cell_type": "code",
      "metadata": {
        "id": "WVX3TQZVSkoS"
      },
      "source": [
        ""
      ],
      "execution_count": null,
      "outputs": []
    }
  ]
}