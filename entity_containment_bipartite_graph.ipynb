{
  "nbformat": 4,
  "nbformat_minor": 0,
  "metadata": {
    "colab": {
      "name": "entity-containment-bipartite-graph.ipynb",
      "provenance": [],
      "collapsed_sections": [],
      "authorship_tag": "ABX9TyP8CxKXl43jAfvsRph6DFNC",
      "include_colab_link": true
    },
    "kernelspec": {
      "name": "python3",
      "display_name": "Python 3"
    }
  },
  "cells": [
    {
      "cell_type": "markdown",
      "metadata": {
        "id": "view-in-github",
        "colab_type": "text"
      },
      "source": [
        "<a href=\"https://colab.research.google.com/github/prateekchandrajha/mastering-ml-algorithms/blob/main/entity_containment_bipartite_graph.ipynb\" target=\"_parent\"><img src=\"https://colab.research.google.com/assets/colab-badge.svg\" alt=\"Open In Colab\"/></a>"
      ]
    },
    {
      "cell_type": "markdown",
      "metadata": {
        "id": "mXFxhclzC3AQ"
      },
      "source": [
        "# AIR Quiz - 8: Draw an Entity Containment Graph.\r\n",
        "\r\n",
        "## I have used NetworkX python library to create a bipartite containment graph using 3 documents/text fragments and 3 entities."
      ]
    },
    {
      "cell_type": "code",
      "metadata": {
        "id": "Cda3hC7L6CD7"
      },
      "source": [
        "import networkx as nx\r\n",
        "import numpy as np\r\n",
        "import pandas as pd\r\n",
        "import matplotlib.pyplot as plt"
      ],
      "execution_count": 1,
      "outputs": []
    },
    {
      "cell_type": "markdown",
      "metadata": {
        "id": "aS9QRb8MCz0M"
      },
      "source": [
        "## Text Fragments"
      ]
    },
    {
      "cell_type": "code",
      "metadata": {
        "colab": {
          "base_uri": "https://localhost:8080/"
        },
        "id": "slPhrOEWCxTO",
        "outputId": "b3785270-2c62-410a-c53f-eec2e23175e2"
      },
      "source": [
        "print(\"The text fragments considered are:\\n\")\r\n",
        "print(\"\"\"<e id=\"1\">Prof. Venkatesh</e> will speak about \\\r\n",
        "Information Retrieval together with <e id=\"2\">\\\r\n",
        "Prateek</e>.\\n\"\"\")\r\n",
        "print(\"\"\"<e id=\"2\">Prateek</e> demonstrates the future \\\r\n",
        "importance of Information Retrieval.\\n\"\"\")\r\n",
        "print(\"\"\"Whereas <e id=\"1\">Prof. Venkatesh</e> analyzes \\\r\n",
        "code search quantities, <e id=\"3\">Ashish</e> \\\r\n",
        "is more concerned with code search evaluation.\\n\"\"\")"
      ],
      "execution_count": 23,
      "outputs": [
        {
          "output_type": "stream",
          "text": [
            "The text fragments considered are:\n",
            "\n",
            "<e id=\"1\">Prof. Venkatesh</e> will speak about Information Retrieval together with <e id=\"2\">Prateek</e>.\n",
            "\n",
            "<e id=\"2\">Prateek</e> demonstrates the future importance of Information Retrieval.\n",
            "\n",
            "Whereas <e id=\"1\">Prof. Venkatesh</e> analyzes code search quantities, <e id=\"3\">Ashish</e> is more concerned with code search evaluation.\n",
            "\n"
          ],
          "name": "stdout"
        }
      ]
    },
    {
      "cell_type": "markdown",
      "metadata": {
        "id": "-Ab9vL_OH-Be"
      },
      "source": [
        "## Creating the Graph"
      ]
    },
    {
      "cell_type": "code",
      "metadata": {
        "colab": {
          "base_uri": "https://localhost:8080/",
          "height": 319
        },
        "id": "bfnguaSA6QJY",
        "outputId": "a0dc22d4-ed48-4172-acbf-0e5a066064ff"
      },
      "source": [
        "B = nx.Graph()\r\n",
        "B.add_nodes_from([1,2,3], bipartite=0) # Add the node attribute \"bipartite\"\r\n",
        "B.add_nodes_from(['a','b','c'], bipartite=1)\r\n",
        "B.add_edges_from([(1,'a'), (1,'c'), (2,'a'), (2,'b'), (3,'c')])\r\n",
        "\r\n",
        "# Separate by group\r\n",
        "l, r = nx.bipartite.sets(B)\r\n",
        "pos = {}\r\n",
        "\r\n",
        "# Update position for node from each group\r\n",
        "pos.update((node, (1, index)) for index, node in enumerate(l))\r\n",
        "pos.update((node, (2, index)) for index, node in enumerate(r))\r\n",
        "\r\n",
        "nx.draw(B, pos=pos)\r\n",
        "plt.show()"
      ],
      "execution_count": 24,
      "outputs": [
        {
          "output_type": "display_data",
          "data": {
            "image/png": "[encoded data removed]",
            "text/plain": [
              "<Figure size 432x288 with 1 Axes>"
            ]
          },
          "metadata": {
            "tags": []
          }
        }
      ]
    },
    {
      "cell_type": "code",
      "metadata": {
        "colab": {
          "base_uri": "https://localhost:8080/"
        },
        "id": "ngn02FXt_RFv",
        "outputId": "dceec505-5267-4d75-8dde-fbf98ce3bbcf"
      },
      "source": [
        "B.nodes(data=True)"
      ],
      "execution_count": 25,
      "outputs": [
        {
          "output_type": "execute_result",
          "data": {
            "text/plain": [
              "NodeDataView({1: {'bipartite': 0}, 2: {'bipartite': 0}, 3: {'bipartite': 0}, 'a': {'bipartite': 1}, 'b': {'bipartite': 1}, 'c': {'bipartite': 1}})"
            ]
          },
          "metadata": {
            "tags": []
          },
          "execution_count": 25
        }
      ]
    },
    {
      "cell_type": "code",
      "metadata": {
        "id": "3_jLmggI7dhs"
      },
      "source": [
        "# labels = dict((n, \"(\" + str(n) + \",\" + str(d['bipartite']) + \")\") for n,d in B.nodes(data=True))\r\n",
        "\r\n",
        "labels = {1: 'Document 1', 2: 'Document 2', 3: 'Document 3', 'a': 'Prof. Venkatesh', 'b': 'Prateek', 'c': 'Ashish'}\r\n"
      ],
      "execution_count": 29,
      "outputs": []
    },
    {
      "cell_type": "code",
      "metadata": {
        "colab": {
          "base_uri": "https://localhost:8080/"
        },
        "id": "3x3oYCmL-ze1",
        "outputId": "ae53636f-a0b7-4385-de1e-899b3a6fbc8e"
      },
      "source": [
        "labels"
      ],
      "execution_count": 30,
      "outputs": [
        {
          "output_type": "execute_result",
          "data": {
            "text/plain": [
              "{1: 'Document 1',\n",
              " 2: 'Document 2',\n",
              " 3: 'Document 3',\n",
              " 'a': 'Prof. Venkatesh',\n",
              " 'b': 'Prateek',\n",
              " 'c': 'Ashish'}"
            ]
          },
          "metadata": {
            "tags": []
          },
          "execution_count": 30
        }
      ]
    },
    {
      "cell_type": "markdown",
      "metadata": {
        "id": "Fo55LfYwL-4N"
      },
      "source": [
        "## NetworkX doesn't automatically make space for long labels so I had to do extend the pyplot margins myself resulting in a bipartite ENTITY CONTAINMENT GRAPH using 3 documents and 3 entities "
      ]
    },
    {
      "cell_type": "code",
      "metadata": {
        "colab": {
          "base_uri": "https://localhost:8080/",
          "height": 319
        },
        "id": "zqkQcxANA5ZS",
        "outputId": "1286af9c-86c9-4a26-a51e-8dc455fcf40c"
      },
      "source": [
        "nx.draw(B, pos=pos, labels=labels, node_color=['green','green','green','blue','blue','blue'], node_size=100)\r\n",
        "# plt.figure(figsize=(12,9))\r\n",
        "x_values, y_values = zip(*pos.values())\r\n",
        "x_max = max(x_values)\r\n",
        "x_min = min(x_values)\r\n",
        "x_margin = (x_max - x_min) * 0.25\r\n",
        "plt.xlim(x_min - x_margin, x_max + x_margin)\r\n",
        "plt.show()"
      ],
      "execution_count": 42,
      "outputs": [
        {
          "output_type": "display_data",
          "data": {
            "image/png": "[encoded data removed]",
            "text/plain": [
              "<Figure size 432x288 with 1 Axes>"
            ]
          },
          "metadata": {
            "tags": []
          }
        }
      ]
    }
  ]
}